{
 "cells": [
  {
   "cell_type": "code",
   "execution_count": 1,
   "metadata": {},
   "outputs": [
    {
     "name": "stderr",
     "output_type": "stream",
     "text": [
      "C:\\Users\\Admin\\AppData\\Local\\Temp\\ipykernel_122776\\3789012242.py:8: DeprecationWarning: ``qiskit.algorithms`` has been migrated to an independent package: https://github.com/qiskit-community/qiskit-algorithms. The ``qiskit.algorithms`` import path is deprecated as of qiskit-terra 0.25.0 and will be removed no earlier than 3 months after the release date. Please run ``pip install qiskit_algorithms`` and use ``import qiskit_algorithms`` instead.\n",
      "  from qiskit.algorithms.optimizers import ADAM, SPSA\n"
     ]
    }
   ],
   "source": [
    "import matplotlib.pyplot as plt\n",
    "import numpy as np\n",
    "from numpy import genfromtxt\n",
    "from sklearn import datasets\n",
    "from sklearn.datasets import load_digits\n",
    "from sklearn.model_selection import train_test_split\n",
    "\n",
    "from qiskit.algorithms.optimizers import ADAM, SPSA\n",
    "from qiskit.circuit.library import TwoLocal, ZZFeatureMap\n",
    "from qiskit.primitives import BackendEstimator, BackendSampler\n",
    "from qiskit.quantum_info import Pauli\n",
    "from qiskit_aer import AerSimulator\n",
    "from qiskit_algorithms.gradients import ParamShiftEstimatorGradient, ParamShiftSamplerGradient\n",
    "\n",
    "from qiskit_machine_learning.algorithms.classifiers import NeuralNetworkClassifier\n",
    "from qiskit_machine_learning.neural_networks import EstimatorQNN, SamplerQNN\n",
    "from qiskit_machine_learning.utils.loss_functions import CrossEntropyLoss\n",
    "import csv"
   ]
  },
  {
   "cell_type": "code",
   "execution_count": 2,
   "metadata": {},
   "outputs": [],
   "source": [
    "SEED = 123\n",
    "qasm_sim = AerSimulator()"
   ]
  },
  {
   "cell_type": "markdown",
   "metadata": {},
   "source": [
    "# Dataset"
   ]
  },
  {
   "cell_type": "code",
   "execution_count": 3,
   "metadata": {},
   "outputs": [],
   "source": [
    "my_data = genfromtxt('MNIST_CSV/mnist_train.csv', delimiter=',')"
   ]
  },
  {
   "cell_type": "code",
   "execution_count": 76,
   "metadata": {},
   "outputs": [
    {
     "name": "stdout",
     "output_type": "stream",
     "text": [
      "5.0\n",
      "[[0.0, 0.0, 0.0, 0.0, 0.0, 0.0, 0.0, 0.0], [0.0, 0.0, 0.0, 0.1875, 10.125, 22.9375, 23.375, 0.0], [0.0, 0.0, 39.625, 159.3125, 137.4375, 56.6875, 18.625, 0.0], [0.0, 0.0, 0.0, 64.75, 35.3125, 0.0, 0.0, 0.0], [0.0, 0.0, 0.0, 0.0, 83.6875, 75.5, 0.0, 0.0], [0.0, 0.0, 1.4375, 69.8125, 149.0625, 60.75, 0.0, 0.0], [0.0, 11.9375, 116.125, 96.0625, 5.5625, 0.0, 0.0, 0.0], [0.0, 0.0, 0.0, 0.0, 0.0, 0.0, 0.0, 0.0]]\n"
     ]
    },
    {
     "data": {
      "text/plain": [
       "<Figure size 640x480 with 0 Axes>"
      ]
     },
     "metadata": {},
     "output_type": "display_data"
    },
    {
     "data": {
      "image/png": "[encoded data removed]",
      "text/plain": [
       "<Figure size 480x480 with 1 Axes>"
      ]
     },
     "metadata": {},
     "output_type": "display_data"
    },
    {
     "data": {
      "image/png": "[encoded data removed]",
      "text/plain": [
       "<Figure size 480x480 with 1 Axes>"
      ]
     },
     "metadata": {},
     "output_type": "display_data"
    }
   ],
   "source": [
    "image = []\n",
    "idx = 0\n",
    "label = my_data[idx][0]\n",
    "print(label)\n",
    "image.append(np.zeros(32))\n",
    "image.append(np.zeros(32))\n",
    "for i in range(28):\n",
    "    row = []\n",
    "    row.append(0)\n",
    "    row.append(0)\n",
    "    for j in range(28):\n",
    "        row.append(my_data[idx][i*28+j+1])\n",
    "    row.append(0)\n",
    "    row.append(0)\n",
    "    image.append(row)\n",
    "image.append(np.zeros(32))\n",
    "image.append(np.zeros(32))\n",
    "image_shrink = []\n",
    "\n",
    "for i in range(8):\n",
    "    row = []\n",
    "    for j in range(8):\n",
    "        row.append(sum(image[i*4][j*4:j*4+3])/16+sum(image[i*4+1][j*4:j*4+3])/16\n",
    "                   +sum(image[i*4+2][j*4:j*4+3])/16+sum(image[i*4+3][j*4:j*4+3])/16)\n",
    "    image_shrink.append(row)\n",
    "    \n",
    "print(image_shrink)\n",
    "plt.gray()\n",
    "plt.matshow(image)\n",
    "plt.matshow(image_shrink)\n",
    "plt.show()"
   ]
  },
  {
   "cell_type": "code",
   "execution_count": 96,
   "metadata": {},
   "outputs": [
    {
     "name": "stdout",
     "output_type": "stream",
     "text": [
      "[[  0.       0.       0.       0.       0.       0.       0.       0.    ]\n",
      " [  0.       0.       0.       0.      46.75    43.625    0.       0.    ]\n",
      " [  0.       0.       0.      64.1875 175.1875 128.125    0.       0.    ]\n",
      " [  0.       0.      33.25   114.3125  13.      63.25    37.8125   0.    ]\n",
      " [  0.       0.     134.5      0.       0.      94.4375  22.25     0.    ]\n",
      " [  0.       0.     138.8125  53.625  104.9375  40.1875   0.       0.    ]\n",
      " [  0.       0.      39.5     87.6875   9.0625   0.       0.       0.    ]\n",
      " [  0.       0.       0.       0.       0.       0.       0.       0.    ]]\n"
     ]
    },
    {
     "data": {
      "text/plain": [
       "<Figure size 640x480 with 0 Axes>"
      ]
     },
     "metadata": {},
     "output_type": "display_data"
    },
    {
     "data": {
      "image/png": "[encoded data removed]",
      "text/plain": [
       "<Figure size 480x480 with 1 Axes>"
      ]
     },
     "metadata": {},
     "output_type": "display_data"
    }
   ],
   "source": [
    "x_list = []\n",
    "y_list = []\n",
    "threshold = 100\n",
    "cnt = 0\n",
    "for idx in range(len(my_data)):\n",
    "    image = []\n",
    "    label = my_data[idx][0]\n",
    "    if (label==0 or label==1):\n",
    "            image = np.append(image,np.zeros(64))\n",
    "            for i in range(28):\n",
    "                row = my_data[idx][i*28+1:i*28+29]\n",
    "                row = np.insert(row,0,(0,0))\n",
    "                row = np.append(row,(0,0))\n",
    "                image = np.append(image,row)\n",
    "            image = np.append(image,np.zeros(64))\n",
    "            image_shrink = []\n",
    "            for i in range(8):\n",
    "                row_shrink = []\n",
    "                for j in range(8):\n",
    "                    row_shrink = np.append(row_shrink,sum(image[i*4*32+j*4:i*4*32+j*4+3])/16\n",
    "                                           +sum(image[(i*4+1)*32+j*4:(i*4+1)*32+j*4+3])/16\n",
    "                                           +sum(image[(i*4+2)*32+j*4:(i*4+2)*32+j*4+3])/16\n",
    "                                           +sum(image[(i*4+3)*32+j*4:(i*4+3)*32+j*4+3])/16) \n",
    "                image_shrink = np.append(image_shrink,row_shrink)  \n",
    "            x_list.append(image_shrink)\n",
    "            y_list.append(label)\n",
    "            cnt = cnt + 1\n",
    "            if (cnt==threshold):\n",
    "                break\n",
    "                \n",
    "x_img = np.reshape(x_list[0],[8,8])\n",
    "print(x_img)\n",
    "plt.gray()\n",
    "plt.matshow(x_img)\n",
    "plt.show()\n",
    "x = np.array(x_list)\n",
    "y = np.array(y_list)\n",
    "for i in range(len(x_list)):\n",
    "    x[i] = x[i]/sum(x[i])"
   ]
  },
  {
   "cell_type": "code",
   "execution_count": 97,
   "metadata": {},
   "outputs": [
    {
     "name": "stdout",
     "output_type": "stream",
     "text": [
      "Train set size: 80\n",
      "Test set size:  20\n"
     ]
    }
   ],
   "source": [
    "test_ratio = 0.2\n",
    "x_train, x_test, y_train, y_test = train_test_split(x, y, test_size=test_ratio, random_state=SEED, stratify=y)\n",
    "\n",
    "print(f\"Train set size: {len(x_train)}\")\n",
    "print(f\"Test set size:  {len(x_test)}\")"
   ]
  },
  {
   "cell_type": "markdown",
   "metadata": {},
   "source": [
    "# Data embedding circuits"
   ]
  },
  {
   "cell_type": "code",
   "execution_count": 11,
   "metadata": {},
   "outputs": [
    {
     "data": {
      "text/html": [
       "<pre style=\"word-wrap: normal;white-space: pre;background: #fff0;line-height: 1.1;font-family: &quot;Courier New&quot;,Courier,monospace\">     ┌───┐┌─────────────┐                                          ┌───┐»\n",
       "q_0: ┤ H ├┤ P(2.0*x[0]) ├──■────────────────────────────────────■──┤ H ├»\n",
       "     ├───┤├─────────────┤┌─┴─┐┌──────────────────────────────┐┌─┴─┐├───┤»\n",
       "q_1: ┤ H ├┤ P(2.0*x[1]) ├┤ X ├┤ P(2.0*(π - x[0])*(π - x[1])) ├┤ X ├┤ H ├»\n",
       "     └───┘└─────────────┘└───┘└──────────────────────────────┘└───┘└───┘»\n",
       "«     ┌─────────────┐                                          \n",
       "«q_0: ┤ P(2.0*x[0]) ├──■────────────────────────────────────■──\n",
       "«     ├─────────────┤┌─┴─┐┌──────────────────────────────┐┌─┴─┐\n",
       "«q_1: ┤ P(2.0*x[1]) ├┤ X ├┤ P(2.0*(π - x[0])*(π - x[1])) ├┤ X ├\n",
       "«     └─────────────┘└───┘└──────────────────────────────┘└───┘</pre>"
      ],
      "text/plain": [
       "     ┌───┐┌─────────────┐                                          ┌───┐»\n",
       "q_0: ┤ H ├┤ P(2.0*x[0]) ├──■────────────────────────────────────■──┤ H ├»\n",
       "     ├───┤├─────────────┤┌─┴─┐┌──────────────────────────────┐┌─┴─┐├───┤»\n",
       "q_1: ┤ H ├┤ P(2.0*x[1]) ├┤ X ├┤ P(2.0*(π - x[0])*(π - x[1])) ├┤ X ├┤ H ├»\n",
       "     └───┘└─────────────┘└───┘└──────────────────────────────┘└───┘└───┘»\n",
       "«     ┌─────────────┐                                          \n",
       "«q_0: ┤ P(2.0*x[0]) ├──■────────────────────────────────────■──\n",
       "«     ├─────────────┤┌─┴─┐┌──────────────────────────────┐┌─┴─┐\n",
       "«q_1: ┤ P(2.0*x[1]) ├┤ X ├┤ P(2.0*(π - x[0])*(π - x[1])) ├┤ X ├\n",
       "«     └─────────────┘└───┘└──────────────────────────────┘└───┘"
      ]
     },
     "execution_count": 11,
     "metadata": {},
     "output_type": "execute_result"
    }
   ],
   "source": [
    "def get_zz_feature_map(feature_dim, feature_map_rep, ent):\n",
    "    return ZZFeatureMap(feature_dimension=feature_dim, reps=feature_map_rep, entanglement=ent)\n",
    "\n",
    "fmap_zz = get_zz_feature_map(num_features, 2, 'linear')\n",
    "input_params = fmap_zz.parameters\n",
    "fmap_zz.decompose().draw()#'mpl', scale=0.7)"
   ]
  },
  {
   "cell_type": "code",
   "execution_count": 12,
   "metadata": {},
   "outputs": [
    {
     "data": {
      "text/html": [
       "<pre style=\"word-wrap: normal;white-space: pre;background: #fff0;line-height: 1.1;font-family: &quot;Courier New&quot;,Courier,monospace\">     ┌───┐┌────────────┐                       ┌───┐┌────────────┐     »\n",
       "q_0: ┤ H ├┤ P(0.57072) ├──■─────────────────■──┤ H ├┤ P(0.57072) ├──■──»\n",
       "     ├───┤├────────────┤┌─┴─┐┌───────────┐┌─┴─┐├───┤├────────────┤┌─┴─┐»\n",
       "q_1: ┤ H ├┤ P(0.45078) ├┤ X ├┤ P(16.659) ├┤ X ├┤ H ├┤ P(0.45078) ├┤ X ├»\n",
       "     └───┘└────────────┘└───┘└───────────┘└───┘└───┘└────────────┘└───┘»\n",
       "«                       \n",
       "«q_0: ───────────────■──\n",
       "«     ┌───────────┐┌─┴─┐\n",
       "«q_1: ┤ P(16.659) ├┤ X ├\n",
       "«     └───────────┘└───┘</pre>"
      ],
      "text/plain": [
       "     ┌───┐┌────────────┐                       ┌───┐┌────────────┐     »\n",
       "q_0: ┤ H ├┤ P(0.57072) ├──■─────────────────■──┤ H ├┤ P(0.57072) ├──■──»\n",
       "     ├───┤├────────────┤┌─┴─┐┌───────────┐┌─┴─┐├───┤├────────────┤┌─┴─┐»\n",
       "q_1: ┤ H ├┤ P(0.45078) ├┤ X ├┤ P(16.659) ├┤ X ├┤ H ├┤ P(0.45078) ├┤ X ├»\n",
       "     └───┘└────────────┘└───┘└───────────┘└───┘└───┘└────────────┘└───┘»\n",
       "«                       \n",
       "«q_0: ───────────────■──\n",
       "«     ┌───────────┐┌─┴─┐\n",
       "«q_1: ┤ P(16.659) ├┤ X ├\n",
       "«     └───────────┘└───┘"
      ]
     },
     "execution_count": 12,
     "metadata": {},
     "output_type": "execute_result"
    }
   ],
   "source": [
    "fmap_zz.assign_parameters({k:v for (k,v) in zip(fmap_zz.parameters, x[0])}).decompose().draw()#'mpl', scale=0.7)"
   ]
  },
  {
   "cell_type": "markdown",
   "metadata": {},
   "source": [
    "# Ansatz"
   ]
  },
  {
   "cell_type": "code",
   "execution_count": 14,
   "metadata": {},
   "outputs": [
    {
     "data": {
      "text/html": [
       "<pre style=\"word-wrap: normal;white-space: pre;background: #fff0;line-height: 1.1;font-family: &quot;Courier New&quot;,Courier,monospace\">     ┌──────────┐┌──────────┐     ┌──────────┐┌──────────┐     ┌──────────┐»\n",
       "q_0: ┤ Ry(θ[0]) ├┤ Rz(θ[2]) ├──■──┤ Ry(θ[4]) ├┤ Rz(θ[6]) ├──■──┤ Ry(θ[8]) ├»\n",
       "     ├──────────┤├──────────┤┌─┴─┐├──────────┤├──────────┤┌─┴─┐├──────────┤»\n",
       "q_1: ┤ Ry(θ[1]) ├┤ Rz(θ[3]) ├┤ X ├┤ Ry(θ[5]) ├┤ Rz(θ[7]) ├┤ X ├┤ Ry(θ[9]) ├»\n",
       "     └──────────┘└──────────┘└───┘└──────────┘└──────────┘└───┘└──────────┘»\n",
       "«     ┌───────────┐\n",
       "«q_0: ┤ Rz(θ[10]) ├\n",
       "«     ├───────────┤\n",
       "«q_1: ┤ Rz(θ[11]) ├\n",
       "«     └───────────┘</pre>"
      ],
      "text/plain": [
       "     ┌──────────┐┌──────────┐     ┌──────────┐┌──────────┐     ┌──────────┐»\n",
       "q_0: ┤ Ry(θ[0]) ├┤ Rz(θ[2]) ├──■──┤ Ry(θ[4]) ├┤ Rz(θ[6]) ├──■──┤ Ry(θ[8]) ├»\n",
       "     ├──────────┤├──────────┤┌─┴─┐├──────────┤├──────────┤┌─┴─┐├──────────┤»\n",
       "q_1: ┤ Ry(θ[1]) ├┤ Rz(θ[3]) ├┤ X ├┤ Ry(θ[5]) ├┤ Rz(θ[7]) ├┤ X ├┤ Ry(θ[9]) ├»\n",
       "     └──────────┘└──────────┘└───┘└──────────┘└──────────┘└───┘└──────────┘»\n",
       "«     ┌───────────┐\n",
       "«q_0: ┤ Rz(θ[10]) ├\n",
       "«     ├───────────┤\n",
       "«q_1: ┤ Rz(θ[11]) ├\n",
       "«     └───────────┘"
      ]
     },
     "execution_count": 14,
     "metadata": {},
     "output_type": "execute_result"
    }
   ],
   "source": [
    "def get_two_locals(feature_dim, rotations, var_form_rep, ent):\n",
    "    return TwoLocal(num_qubits=feature_dim, rotation_blocks=rotations, entanglement_blocks='cx', entanglement=ent, reps=var_form_rep)\n",
    "\n",
    "ansatz_tl = get_two_locals(num_features, ['ry', 'rz'], 2, 'linear')\n",
    "weights_params = ansatz_tl.parameters\n",
    "ansatz_tl.decompose().draw()#'mpl', scale=0.7)"
   ]
  },
  {
   "cell_type": "code",
   "execution_count": 15,
   "metadata": {},
   "outputs": [
    {
     "data": {
      "text/html": [
       "<pre style=\"word-wrap: normal;white-space: pre;background: #fff0;line-height: 1.1;font-family: &quot;Courier New&quot;,Courier,monospace\">     ┌─────────────┐┌─────────────┐      ┌────────────┐┌─────────────┐     »\n",
       "q_0: ┤ Ry(0.69288) ├┤ Rz(0.15712) ├──■───┤ Ry(0.9214) ├┤ Rz(0.61202) ├──■──»\n",
       "     ├─────────────┤├─────────────┤┌─┴─┐┌┴────────────┤├─────────────┤┌─┴─┐»\n",
       "q_1: ┤ Ry(0.78308) ├┤ Rz(0.42479) ├┤ X ├┤ Ry(0.59228) ├┤ Rz(0.94185) ├┤ X ├»\n",
       "     └─────────────┘└─────────────┘└───┘└─────────────┘└─────────────┘└───┘»\n",
       "«     ┌─────────────┐┌─────────────┐\n",
       "«q_0: ┤ Ry(0.50093) ├┤ Rz(0.45422) ├\n",
       "«     ├─────────────┤├─────────────┤\n",
       "«q_1: ┤ Ry(0.69129) ├┤ Rz(0.99206) ├\n",
       "«     └─────────────┘└─────────────┘</pre>"
      ],
      "text/plain": [
       "     ┌─────────────┐┌─────────────┐      ┌────────────┐┌─────────────┐     »\n",
       "q_0: ┤ Ry(0.69288) ├┤ Rz(0.15712) ├──■───┤ Ry(0.9214) ├┤ Rz(0.61202) ├──■──»\n",
       "     ├─────────────┤├─────────────┤┌─┴─┐┌┴────────────┤├─────────────┤┌─┴─┐»\n",
       "q_1: ┤ Ry(0.78308) ├┤ Rz(0.42479) ├┤ X ├┤ Ry(0.59228) ├┤ Rz(0.94185) ├┤ X ├»\n",
       "     └─────────────┘└─────────────┘└───┘└─────────────┘└─────────────┘└───┘»\n",
       "«     ┌─────────────┐┌─────────────┐\n",
       "«q_0: ┤ Ry(0.50093) ├┤ Rz(0.45422) ├\n",
       "«     ├─────────────┤├─────────────┤\n",
       "«q_1: ┤ Ry(0.69129) ├┤ Rz(0.99206) ├\n",
       "«     └─────────────┘└─────────────┘"
      ]
     },
     "execution_count": 15,
     "metadata": {},
     "output_type": "execute_result"
    }
   ],
   "source": [
    "weights = np.random.random(len(ansatz_tl.parameters))\n",
    "ansatz_tl.assign_parameters({k:v for (k,v) in zip(ansatz_tl.parameters, weights)}).decompose().draw()#'mpl', scale=0.7)"
   ]
  },
  {
   "cell_type": "code",
   "execution_count": 16,
   "metadata": {},
   "outputs": [
    {
     "data": {
      "text/html": [
       "<pre style=\"word-wrap: normal;white-space: pre;background: #fff0;line-height: 1.1;font-family: &quot;Courier New&quot;,Courier,monospace\">     ┌──────────────────────────┐»\n",
       "q_0: ┤0                         ├»\n",
       "     │  ZZFeatureMap(x[0],x[1]) │»\n",
       "q_1: ┤1                         ├»\n",
       "     └──────────────────────────┘»\n",
       "«     ┌──────────────────────────────────────────────────────────────────────────┐\n",
       "«q_0: ┤0                                                                         ├\n",
       "«     │  TwoLocal(θ[0],θ[1],θ[2],θ[3],θ[4],θ[5],θ[6],θ[7],θ[8],θ[9],θ[10],θ[11]) │\n",
       "«q_1: ┤1                                                                         ├\n",
       "«     └──────────────────────────────────────────────────────────────────────────┘</pre>"
      ],
      "text/plain": [
       "     ┌──────────────────────────┐»\n",
       "q_0: ┤0                         ├»\n",
       "     │  ZZFeatureMap(x[0],x[1]) │»\n",
       "q_1: ┤1                         ├»\n",
       "     └──────────────────────────┘»\n",
       "«     ┌──────────────────────────────────────────────────────────────────────────┐\n",
       "«q_0: ┤0                                                                         ├\n",
       "«     │  TwoLocal(θ[0],θ[1],θ[2],θ[3],θ[4],θ[5],θ[6],θ[7],θ[8],θ[9],θ[10],θ[11]) │\n",
       "«q_1: ┤1                                                                         ├\n",
       "«     └──────────────────────────────────────────────────────────────────────────┘"
      ]
     },
     "execution_count": 16,
     "metadata": {},
     "output_type": "execute_result"
    }
   ],
   "source": [
    "var_circuit = fmap_zz.compose(ansatz_tl)\n",
    "var_circuit.draw()#'mpl', scale=0.7)"
   ]
  },
  {
   "cell_type": "markdown",
   "metadata": {},
   "source": [
    "# Primitives\n",
    "\n",
    "For info, see https://docs.quantum.ibm.com/run/primitives"
   ]
  },
  {
   "cell_type": "code",
   "execution_count": 17,
   "metadata": {},
   "outputs": [],
   "source": [
    "# for qiskit_ibm_runtime.Options, see https://docs.quantum.ibm.com/api/qiskit-ibm-runtime/qiskit_ibm_runtime.options.Options\n",
    "options = {}\n",
    "sampler = BackendSampler(backend=qasm_sim, options=options)\n",
    "estimator = BackendEstimator(backend=qasm_sim, options=options)"
   ]
  },
  {
   "cell_type": "markdown",
   "metadata": {},
   "source": [
    "# Quantum Neural Network"
   ]
  },
  {
   "cell_type": "markdown",
   "metadata": {},
   "source": [
    "## SamplerQNN"
   ]
  },
  {
   "cell_type": "code",
   "execution_count": 18,
   "metadata": {},
   "outputs": [],
   "source": [
    "def parity(x, num_classes):\n",
    "    return f\"{x:b}\".count(\"1\") % num_classes\n",
    "\n",
    "def one_qubit_binary(x):\n",
    "    return x % 2"
   ]
  },
  {
   "cell_type": "code",
   "execution_count": 19,
   "metadata": {},
   "outputs": [],
   "source": [
    "var_circuit_with_meas = var_circuit.copy()\n",
    "var_circuit_with_meas.measure_all()"
   ]
  },
  {
   "cell_type": "code",
   "execution_count": 20,
   "metadata": {},
   "outputs": [],
   "source": [
    "paramShiftSampGrad = ParamShiftSamplerGradient(sampler=sampler)\n",
    "\n",
    "sampler_qnn = SamplerQNN(sampler=sampler,\n",
    "                         circuit=var_circuit_with_meas,\n",
    "                         input_params=input_params,     # if your embedding strategy is not a parametrized circuit\n",
    "                                                        # (e.g. amplitude encoding) you will have to do some extra work!\n",
    "                         weight_params=weights_params,  # if you train your embedding as well, the trainable\n",
    "                                                        # parameters of the embedding must be added\n",
    "                         interpret=one_qubit_binary,\n",
    "                         output_shape=2,\n",
    "                         gradient=paramShiftSampGrad)"
   ]
  },
  {
   "cell_type": "markdown",
   "metadata": {},
   "source": [
    "### Forward pass"
   ]
  },
  {
   "cell_type": "code",
   "execution_count": 21,
   "metadata": {},
   "outputs": [
    {
     "name": "stdout",
     "output_type": "stream",
     "text": [
      "Output shape for 100 samples: (100, 2)\n",
      "Output of the forward pass for first sample: [0.45410156 0.54589844]\n"
     ]
    }
   ],
   "source": [
    "# The result of the neural network on a forward pass.\n",
    "output = sampler_qnn.forward(x, weights)\n",
    "print(f\"Output shape for {len(x)} samples: {output.shape}\")\n",
    "print(f\"Output of the forward pass for first sample: {output[0]}\")"
   ]
  },
  {
   "cell_type": "markdown",
   "metadata": {},
   "source": [
    "### Backward pass"
   ]
  },
  {
   "cell_type": "code",
   "execution_count": 22,
   "metadata": {},
   "outputs": [
    {
     "name": "stdout",
     "output_type": "stream",
     "text": [
      "Output shape for 100 samples: (100, 2, 12)\n",
      "Output of the backward pass for first sample: [[-0.05126953 -0.26367188 -0.04980469  0.02392578  0.01123047  0.15380859\n",
      "   0.09667969  0.02050781 -0.03759766 -0.00537109  0.00341797 -0.00097656]\n",
      " [ 0.05126953  0.26367188  0.04980469 -0.02392578 -0.01123047 -0.15380859\n",
      "  -0.09667969 -0.02050781  0.03759766  0.00537109 -0.00341797  0.00097656]]\n"
     ]
    }
   ],
   "source": [
    "# The result of the neural network on a backward pass\n",
    "_, weights_grad = sampler_qnn.backward(x, weights)\n",
    "print(f\"Output shape for {len(x)} samples: {weights_grad.shape}\")\n",
    "print(f\"Output of the backward pass for first sample: {weights_grad[0]}\")\n"
   ]
  },
  {
   "cell_type": "markdown",
   "metadata": {},
   "source": [
    "## EstimatorQNN"
   ]
  },
  {
   "cell_type": "code",
   "execution_count": 23,
   "metadata": {},
   "outputs": [
    {
     "name": "stdout",
     "output_type": "stream",
     "text": [
      "Parity observable: ZZ\n",
      "First qubit observable: IZ\n"
     ]
    }
   ],
   "source": [
    "obs_parity = Pauli('Z' * num_features)\n",
    "obs_one_qubit = Pauli('I' * (num_features - 1) + 'Z')\n",
    "print(f\"Parity observable: {obs_parity}\")\n",
    "print(f\"First qubit observable: {obs_one_qubit}\")"
   ]
  },
  {
   "cell_type": "code",
   "execution_count": 24,
   "metadata": {},
   "outputs": [],
   "source": [
    "paramShiftEstGrad = ParamShiftEstimatorGradient(estimator=estimator)\n",
    "\n",
    "estimator_qnn = EstimatorQNN(estimator=estimator,\n",
    "                             circuit=var_circuit,\n",
    "                             observables=obs_one_qubit,\n",
    "                             input_params=input_params,     # if your embedding strategy is not a parametrized circuit\n",
    "                                                            # (e.g. amplitude encoding) you will have to do some extra work!\n",
    "                             weight_params=weights_params,  # if you train your embedding as well, the trainable\n",
    "                                                            # parameters of the embedding must be added\n",
    "                             gradient=paramShiftEstGrad)"
   ]
  },
  {
   "cell_type": "markdown",
   "metadata": {},
   "source": [
    "### Forward pass"
   ]
  },
  {
   "cell_type": "code",
   "execution_count": 25,
   "metadata": {},
   "outputs": [
    {
     "name": "stdout",
     "output_type": "stream",
     "text": [
      "Output shape for 100 samples: (100, 1)\n",
      "Output of the forward pass for first sample: [-0.09765625]\n"
     ]
    }
   ],
   "source": [
    "# The result of the neural network on a forward pass.\n",
    "output = estimator_qnn.forward(x, weights)\n",
    "print(f\"Output shape for {len(x)} samples: {output.shape}\")\n",
    "print(f\"Output of the forward pass for first sample: {output[0]}\")"
   ]
  },
  {
   "cell_type": "markdown",
   "metadata": {},
   "source": [
    "### Backward pass"
   ]
  },
  {
   "cell_type": "code",
   "execution_count": 26,
   "metadata": {},
   "outputs": [
    {
     "name": "stdout",
     "output_type": "stream",
     "text": [
      "Output shape for 100 samples: (100, 1, 12)\n",
      "Output of the backward pass for first sample: [[-0.13085938 -0.5390625  -0.10351562  0.0625     -0.03320312  0.25976562\n",
      "   0.16894531  0.00683594 -0.07324219 -0.03613281 -0.01660156 -0.00195312]]\n"
     ]
    }
   ],
   "source": [
    "# The result of the neural network on a backward pass\n",
    "_, weights_grad = estimator_qnn.backward(x, weights)\n",
    "print(f\"Output shape for {len(x)} samples: {weights_grad.shape}\")\n",
    "print(f\"Output of the backward pass for first sample: {weights_grad[0]}\")"
   ]
  },
  {
   "cell_type": "markdown",
   "metadata": {},
   "source": [
    "# Train a Neural Network Classifier"
   ]
  },
  {
   "cell_type": "code",
   "execution_count": 27,
   "metadata": {},
   "outputs": [
    {
     "name": "stdout",
     "output_type": "stream",
     "text": [
      "Label 0 converted to [1 0]\n",
      "Label 1 converted to [0 1]\n"
     ]
    }
   ],
   "source": [
    "def get_one_hot_encoding(y):\n",
    "    unique_labels = np.unique(y, axis=0)\n",
    "    y_one_hot = [(np.eye(len(unique_labels), dtype=int)[np.where(unique_labels == y_i)]).reshape(len(unique_labels)) for y_i in y]\n",
    "\n",
    "    return np.array(y_one_hot)\n",
    "\n",
    "y_train_1h = get_one_hot_encoding(y_train)\n",
    "y_test_1h = get_one_hot_encoding(y_test)\n",
    "\n",
    "print(f\"Label {y_train[2]} converted to {y_train_1h[2]}\")\n",
    "print(f\"Label {y_train[0]} converted to {y_train_1h[0]}\")"
   ]
  },
  {
   "cell_type": "code",
   "execution_count": 28,
   "metadata": {},
   "outputs": [],
   "source": [
    "def spsa_callback(nfev, params, fval, stepsize, accepted=None):\n",
    "    \"\"\"\n",
    "    Can be used for SPSA and GradientDescent optimizers\n",
    "    nfev: the number of function evals\n",
    "    params: the current parameters\n",
    "    fval: the current function value\n",
    "    stepsize: size of the update step\n",
    "    accepted: whether the step was accepted (not used for )\n",
    "    \"\"\"\n",
    "    global spsa_loss_recorder\n",
    "\n",
    "    if (nfev % 3) == 0:\n",
    "        spsa_loss_recorder.append(fval)\n",
    "        # print(f\"SPSA Epoch {len(spsa_loss_recorder)}: {fval:.5f}\")"
   ]
  },
  {
   "cell_type": "code",
   "execution_count": 36,
   "metadata": {},
   "outputs": [],
   "source": [
    "max_itr = 40\n",
    "spsa_opt = SPSA(maxiter=max_itr, callback=spsa_callback)\n",
    "spsa_loss_recorder = []\n",
    "initial_point = np.random.random((len(ansatz_tl.parameters),))\n",
    "vqc = NeuralNetworkClassifier(neural_network=sampler_qnn,\n",
    "                              loss=CrossEntropyLoss(),\n",
    "                              one_hot=True,\n",
    "                              optimizer=spsa_opt,\n",
    "                              initial_point=initial_point)\n",
    "\n",
    "vqc = vqc.fit(x_train, y_train_1h)"
   ]
  },
  {
   "cell_type": "code",
   "execution_count": 37,
   "metadata": {},
   "outputs": [
    {
     "data": {
      "text/plain": [
       "Text(0.5, 1.0, 'Training loss')"
      ]
     },
     "execution_count": 37,
     "metadata": {},
     "output_type": "execute_result"
    },
    {
     "data": {
      "image/png": "[encoded data removed]",
      "text/plain": [
       "<Figure size 640x480 with 1 Axes>"
      ]
     },
     "metadata": {},
     "output_type": "display_data"
    }
   ],
   "source": [
    "plt.plot(spsa_loss_recorder)\n",
    "plt.xlabel(\"Number of epochs\")\n",
    "plt.title(\"Training loss\")"
   ]
  },
  {
   "cell_type": "code",
   "execution_count": 38,
   "metadata": {},
   "outputs": [
    {
     "name": "stdout",
     "output_type": "stream",
     "text": [
      "Score on the train set 0.8375\n",
      "Score on the test set 0.7\n"
     ]
    }
   ],
   "source": [
    "score_train = vqc.score(x_train, y_train_1h)\n",
    "score_test = vqc.score(x_test, y_test_1h)\n",
    "print(f'Score on the train set {score_train}')\n",
    "print(f'Score on the test set {score_test}')"
   ]
  },
  {
   "cell_type": "code",
   "execution_count": 39,
   "metadata": {},
   "outputs": [],
   "source": [
    "y_train_pred = vqc.predict(x_train)\n",
    "y_test_pred = vqc.predict(x_test)"
   ]
  },
  {
   "cell_type": "code",
   "execution_count": 40,
   "metadata": {},
   "outputs": [],
   "source": [
    "train_pred_acc = np.all(y_train_pred == y_train_1h, axis=1)\n",
    "test_pred_acc = np.all(y_test_pred == y_test_1h, axis=1)"
   ]
  },
  {
   "cell_type": "code",
   "execution_count": 41,
   "metadata": {},
   "outputs": [],
   "source": [
    "x_all = np.concatenate((x_train, x_test))\n",
    "y_all= np.concatenate((y_train_1h, y_test_1h))\n",
    "y_pred_acc_all = np.concatenate((train_pred_acc, test_pred_acc))\n",
    "\n",
    "x_b = x_all[np.all(y_all == [1, 0], axis=1)]\n",
    "x_b_good = x_b[(y_pred_acc_all[np.all(y_all == [1, 0], axis=1)])]\n",
    "x_b_bad = x_b[np.logical_not(y_pred_acc_all[np.all(y_all == [1, 0], axis=1)])]\n",
    "\n",
    "x_r = x_all[np.all(y_all == [0, 1], axis=1)]\n",
    "x_r_good = x_r[(y_pred_acc_all[np.all(y_all == [0, 1], axis=1)])]\n",
    "x_r_bad = x_r[np.logical_not(y_pred_acc_all[np.all(y_all == [0, 1], axis=1)])]"
   ]
  },
  {
   "cell_type": "code",
   "execution_count": 42,
   "metadata": {},
   "outputs": [
    {
     "data": {
      "text/plain": [
       "<matplotlib.legend.Legend at 0x1ffc8af67d0>"
      ]
     },
     "execution_count": 42,
     "metadata": {},
     "output_type": "execute_result"
    },
    {
     "data": {
      "image/png": "[encoded data removed]",
      "text/plain": [
       "<Figure size 640x480 with 1 Axes>"
      ]
     },
     "metadata": {},
     "output_type": "display_data"
    }
   ],
   "source": [
    "plt.scatter(x_b_good[:,0], x_b_good[:,1], c='b', marker=\".\", label=\"Good class 0\")\n",
    "plt.scatter(x_b_bad[:,0], x_b_bad[:,1], c='b', marker=\"x\", label=\"Bad class 0\")\n",
    "plt.scatter(x_r_good[:,0], x_r_good[:,1], c='r', marker=\".\", label=\"Good class 1\")\n",
    "plt.scatter(x_r_bad[:,0], x_r_bad[:,1], c='r', marker=\"x\", label=\"Bad class 1\")\n",
    "\n",
    "plt.title(\"Moon dataset classification\")\n",
    "plt.legend()"
   ]
  },
  {
   "cell_type": "code",
   "execution_count": null,
   "metadata": {},
   "outputs": [],
   "source": []
  }
 ],
 "metadata": {
  "interpreter": {
   "hash": "ba0b25e8af5c74af8e2c6ced0e74862d1fdf41eb019455e1e720bbed2b1ca1d9"
  },
  "kernelspec": {
   "display_name": "Python 3 (ipykernel)",
   "language": "python",
   "name": "python3"
  },
  "language_info": {
   "codemirror_mode": {
    "name": "ipython",
    "version": 3
   },
   "file_extension": ".py",
   "mimetype": "text/x-python",
   "name": "python",
   "nbconvert_exporter": "python",
   "pygments_lexer": "ipython3",
   "version": "3.10.6"
  }
 },
 "nbformat": 4,
 "nbformat_minor": 4
}
