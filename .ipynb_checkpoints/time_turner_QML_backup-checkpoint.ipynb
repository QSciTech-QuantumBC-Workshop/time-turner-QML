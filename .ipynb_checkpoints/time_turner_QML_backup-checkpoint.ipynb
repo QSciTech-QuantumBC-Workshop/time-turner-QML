{
 "cells": [
  {
   "cell_type": "code",
   "execution_count": 38,
   "metadata": {},
   "outputs": [],
   "source": [
    "import matplotlib.pyplot as plt\n",
    "import numpy as np\n",
    "from numpy import genfromtxt\n",
    "from sklearn import datasets\n",
    "from sklearn.datasets import load_digits\n",
    "from sklearn.model_selection import train_test_split\n",
    "\n",
    "from qiskit.algorithms.optimizers import ADAM, SPSA, COBYLA\n",
    "from qiskit import QuantumCircuit\n",
    "from qiskit.circuit import QuantumRegister, ClassicalRegister\n",
    "from qiskit.circuit import ParameterVector\n",
    "from qiskit.circuit.library import TwoLocal, PauliFeatureMap, ZFeatureMap, ZZFeatureMap\n",
    "from qiskit.primitives import BackendEstimator, BackendSampler\n",
    "from qiskit.quantum_info import Pauli, SparsePauliOp\n",
    "from qiskit_aer import AerSimulator\n",
    "from qiskit_algorithms.gradients import ParamShiftEstimatorGradient, ParamShiftSamplerGradient\n",
    "\n",
    "from qiskit_machine_learning.algorithms.classifiers import NeuralNetworkClassifier\n",
    "from qiskit_machine_learning.neural_networks import EstimatorQNN, SamplerQNN\n",
    "from qiskit_machine_learning.utils.loss_functions import CrossEntropyLoss\n",
    "import csv\n",
    "from IPython.display import clear_output"
   ]
  },
  {
   "cell_type": "code",
   "execution_count": 84,
   "metadata": {},
   "outputs": [],
   "source": [
    "SEED = 124\n",
    "qasm_sim = AerSimulator()"
   ]
  },
  {
   "cell_type": "markdown",
   "metadata": {},
   "source": [
    "# Dataset"
   ]
  },
  {
   "cell_type": "code",
   "execution_count": 3,
   "metadata": {},
   "outputs": [],
   "source": [
    "my_data = genfromtxt('MNIST_CSV/mnist_train.csv', delimiter=',')"
   ]
  },
  {
   "cell_type": "code",
   "execution_count": 4,
   "metadata": {},
   "outputs": [
    {
     "name": "stdout",
     "output_type": "stream",
     "text": [
      "5.0\n",
      "[[0.0, 0.0, 0.0, 0.0, 0.0, 0.0, 0.0, 0.0], [0.0, 0.0, 0.0, 0.1875, 10.125, 22.9375, 23.375, 0.0], [0.0, 0.0, 39.625, 159.3125, 137.4375, 56.6875, 18.625, 0.0], [0.0, 0.0, 0.0, 64.75, 35.3125, 0.0, 0.0, 0.0], [0.0, 0.0, 0.0, 0.0, 83.6875, 75.5, 0.0, 0.0], [0.0, 0.0, 1.4375, 69.8125, 149.0625, 60.75, 0.0, 0.0], [0.0, 11.9375, 116.125, 96.0625, 5.5625, 0.0, 0.0, 0.0], [0.0, 0.0, 0.0, 0.0, 0.0, 0.0, 0.0, 0.0]]\n"
     ]
    },
    {
     "data": {
      "text/plain": [
       "<Figure size 640x480 with 0 Axes>"
      ]
     },
     "metadata": {},
     "output_type": "display_data"
    },
    {
     "data": {
      "image/png": "[encoded data removed]",
      "text/plain": [
       "<Figure size 480x480 with 1 Axes>"
      ]
     },
     "metadata": {},
     "output_type": "display_data"
    },
    {
     "data": {
      "image/png": "[encoded data removed]",
      "text/plain": [
       "<Figure size 480x480 with 1 Axes>"
      ]
     },
     "metadata": {},
     "output_type": "display_data"
    }
   ],
   "source": [
    "image = []\n",
    "idx = 0\n",
    "label = my_data[idx][0]\n",
    "print(label)\n",
    "image.append(np.zeros(32))\n",
    "image.append(np.zeros(32))\n",
    "for i in range(28):\n",
    "    row = []\n",
    "    row.append(0)\n",
    "    row.append(0)\n",
    "    for j in range(28):\n",
    "        row.append(my_data[idx][i*28+j+1])\n",
    "    row.append(0)\n",
    "    row.append(0)\n",
    "    image.append(row)\n",
    "image.append(np.zeros(32))\n",
    "image.append(np.zeros(32))\n",
    "image_shrink = []\n",
    "\n",
    "for i in range(8):\n",
    "    row = []\n",
    "    for j in range(8):\n",
    "        row.append(sum(image[i*4][j*4:j*4+3])/16+sum(image[i*4+1][j*4:j*4+3])/16\n",
    "                   +sum(image[i*4+2][j*4:j*4+3])/16+sum(image[i*4+3][j*4:j*4+3])/16)\n",
    "    image_shrink.append(row)\n",
    "    \n",
    "print(image_shrink)\n",
    "plt.gray()\n",
    "plt.matshow(image)\n",
    "plt.matshow(image_shrink)\n",
    "plt.show()"
   ]
  },
  {
   "cell_type": "code",
   "execution_count": 80,
   "metadata": {},
   "outputs": [
    {
     "name": "stdout",
     "output_type": "stream",
     "text": [
      "[[  0.       0.       0.       0.       0.       0.       0.       0.    ]\n",
      " [  0.       0.       0.       0.      46.75    43.625    0.       0.    ]\n",
      " [  0.       0.       0.      64.1875 175.1875 128.125    0.       0.    ]\n",
      " [  0.       0.      33.25   114.3125  13.      63.25    37.8125   0.    ]\n",
      " [  0.       0.     134.5      0.       0.      94.4375  22.25     0.    ]\n",
      " [  0.       0.     138.8125  53.625  104.9375  40.1875   0.       0.    ]\n",
      " [  0.       0.      39.5     87.6875   9.0625   0.       0.       0.    ]\n",
      " [  0.       0.       0.       0.       0.       0.       0.       0.    ]]\n"
     ]
    },
    {
     "data": {
      "text/plain": [
       "<Figure size 1200x600 with 0 Axes>"
      ]
     },
     "metadata": {},
     "output_type": "display_data"
    },
    {
     "data": {
      "image/png": "[encoded data removed]",
      "text/plain": [
       "<Figure size 600x600 with 1 Axes>"
      ]
     },
     "metadata": {},
     "output_type": "display_data"
    }
   ],
   "source": [
    "x_list = []\n",
    "y_list = []\n",
    "threshold = 100\n",
    "cnt = 0\n",
    "for idx in range(len(my_data)):\n",
    "    image = []\n",
    "    label = my_data[idx][0]\n",
    "    if (label==0 or label==1):\n",
    "            image = np.append(image,np.zeros(64))\n",
    "            for i in range(28):\n",
    "                row = my_data[idx][i*28+1:i*28+29]\n",
    "                row = np.insert(row,0,(0,0))\n",
    "                row = np.append(row,(0,0))\n",
    "                image = np.append(image,row)\n",
    "            image = np.append(image,np.zeros(64))\n",
    "            image_shrink = []\n",
    "            for i in range(8):\n",
    "                row_shrink = []\n",
    "                for j in range(8):\n",
    "                    row_shrink = np.append(row_shrink,sum(image[i*4*32+j*4:i*4*32+j*4+3])/16\n",
    "                                           +sum(image[(i*4+1)*32+j*4:(i*4+1)*32+j*4+3])/16\n",
    "                                           +sum(image[(i*4+2)*32+j*4:(i*4+2)*32+j*4+3])/16\n",
    "                                           +sum(image[(i*4+3)*32+j*4:(i*4+3)*32+j*4+3])/16) \n",
    "                image_shrink = np.append(image_shrink,row_shrink)  \n",
    "            x_list.append(image_shrink)\n",
    "            y_list.append(label)\n",
    "            cnt = cnt + 1\n",
    "            if (cnt==threshold):\n",
    "                break\n",
    "                \n",
    "x_img = np.array(x_list)\n",
    "y = np.array(y_list)\n",
    "#for i in range(len(x_list)):\n",
    "#    x[i] = x[i]/sum(x[i])\n",
    "#    x[i] = np.sqrt(x[i])\n",
    "    \n",
    "x_img_real = np.reshape(x_img[0],[8,8])\n",
    "print(x_img_real)\n",
    "plt.gray()\n",
    "plt.matshow(x_img_real)\n",
    "plt.show()"
   ]
  },
  {
   "cell_type": "code",
   "execution_count": 82,
   "metadata": {},
   "outputs": [],
   "source": [
    "#Vertical encoding\n",
    "x = []\n",
    "for idx in range(len(x_img)):\n",
    "    row = []\n",
    "    for i in range(4):\n",
    "        row = np.append(row,sum(x_img[idx][i*2:i*2+1])+sum(x_img[idx][i*2+8:i*2+9])\n",
    "                +sum(x_img[idx][i*2+8*2:i*2+8*2+1])+sum(x_img[idx][i*2+8*3:i*2+8*3+1])\n",
    "                +sum(x_img[idx][i*2+8*4:i*2+8*4+1])+sum(x_img[idx][i*2+8*5:i*2+8*5+1])\n",
    "                +sum(x_img[idx][i*2+8*6:i*2+8*6+1])+sum(x_img[idx][i*2+8*7:i*2+8*7+1]))\n",
    "    for i in range(2):\n",
    "        row = np.append(row,sum(x_img[idx][i*32:i*32+7])+sum(x_img[idx][i*32+8:i*32+8+7])\n",
    "             +sum(x_img[idx][i*32+8*2:i*32+8*2+7])+sum(x_img[idx][i*32+8*3:i*32+8*3+7]))\n",
    "    x.append(row)\n",
    "    \n",
    "for i in range(len(x_img)):\n",
    "    x[i] = x[i]/sum(x[i])\n",
    "    x[i] = np.sqrt(x[i])\n",
    "\n",
    "x = np.array(x)"
   ]
  },
  {
   "cell_type": "code",
   "execution_count": 83,
   "metadata": {},
   "outputs": [
    {
     "name": "stdout",
     "output_type": "stream",
     "text": [
      "Train set size: 80\n",
      "Test set size:  20\n"
     ]
    }
   ],
   "source": [
    "test_ratio = 0.2\n",
    "x_train, x_test, y_train, y_test = train_test_split(x, y, test_size=test_ratio, random_state=SEED, stratify=y)\n",
    "num_classes = 2\n",
    "num_features = 6\n",
    "\n",
    "print(f\"Train set size: {len(x_train)}\")\n",
    "print(f\"Test set size:  {len(x_test)}\")"
   ]
  },
  {
   "cell_type": "markdown",
   "metadata": {},
   "source": [
    "# Data embedding circuits"
   ]
  },
  {
   "cell_type": "code",
   "execution_count": null,
   "metadata": {},
   "outputs": [],
   "source": [
    "def initialize_circuit(params):\n",
    "    target = QuantumCircuit(6)\n",
    "    target.initialize(params, range(6))\n",
    "    return target\n",
    "\n",
    "params = x_train[0]\n",
    "circuit = initialize_circuit(params)\n",
    "circuit.draw()"
   ]
  },
  {
   "cell_type": "code",
   "execution_count": null,
   "metadata": {},
   "outputs": [],
   "source": [
    "class CustomFeatureMap(ZZFeatureMap):\n",
    "    \"\"\"Mapping data with a custom feature map.\"\"\"\n",
    "    def __init__(\n",
    "        self,\n",
    "        feature_dimension=6,\n",
    "        name: str = \"CustomFeatureMap\",\n",
    "    ):\n",
    "        super(CustomFeatureMap,self).__init__(feature_dimension=feature_dimension)\n",
    "        parameters = np.zeros(64)\n",
    "    \n",
    "    def construct_circuit(self, x, qr, inverse=False):\n",
    "        \"\"\"Construct the feature map circuit.\n",
    "        \n",
    "        Args:\n",
    "            x (numpy.ndarray): 1-D to-be-transformed data.\n",
    "            qr (QauntumRegister): the QuantumRegister object for the circuit.\n",
    "            inverse (bool): whether or not to invert the circuit.\n",
    "            \n",
    "        Returns:\n",
    "            QuantumCircuit: a quantum circuit transforming data x.\n",
    "        \"\"\"\n",
    "        qc = QuantumCircuit(qr)\n",
    "        qc = initialize_circuit(x)        \n",
    "       \n",
    "        return qc"
   ]
  },
  {
   "cell_type": "code",
   "execution_count": 48,
   "metadata": {},
   "outputs": [
    {
     "data": {
      "text/html": [
       "<pre style=\"word-wrap: normal;white-space: pre;background: #fff0;line-height: 1.1;font-family: &quot;Courier New&quot;,Courier,monospace\">     ┌───┐┌─────────────┐                                          ┌───┐»\n",
       "q_0: ┤ H ├┤ P(2.0*x[0]) ├──■────────────────────────────────────■──┤ H ├»\n",
       "     ├───┤├─────────────┤┌─┴─┐┌──────────────────────────────┐┌─┴─┐└───┘»\n",
       "q_1: ┤ H ├┤ P(2.0*x[1]) ├┤ X ├┤ P(2.0*(π - x[0])*(π - x[1])) ├┤ X ├──■──»\n",
       "     ├───┤├─────────────┤└───┘└──────────────────────────────┘└───┘┌─┴─┐»\n",
       "q_2: ┤ H ├┤ P(2.0*x[2]) ├──────────────────────────────────────────┤ X ├»\n",
       "     ├───┤├─────────────┤                                          └───┘»\n",
       "q_3: ┤ H ├┤ P(2.0*x[3]) ├───────────────────────────────────────────────»\n",
       "     ├───┤├─────────────┤                                               »\n",
       "q_4: ┤ H ├┤ P(2.0*x[4]) ├───────────────────────────────────────────────»\n",
       "     ├───┤├─────────────┤                                               »\n",
       "q_5: ┤ H ├┤ P(2.0*x[5]) ├───────────────────────────────────────────────»\n",
       "     └───┘└─────────────┘                                               »\n",
       "«             ┌─────────────┐                   »\n",
       "«q_0: ────────┤ P(2.0*x[0]) ├───────────────────»\n",
       "«             └─────────────┘              ┌───┐»\n",
       "«q_1: ──────────────────────────────────■──┤ H ├»\n",
       "«     ┌──────────────────────────────┐┌─┴─┐└───┘»\n",
       "«q_2: ┤ P(2.0*(π - x[1])*(π - x[2])) ├┤ X ├──■──»\n",
       "«     └──────────────────────────────┘└───┘┌─┴─┐»\n",
       "«q_3: ─────────────────────────────────────┤ X ├»\n",
       "«                                          └───┘»\n",
       "«q_4: ──────────────────────────────────────────»\n",
       "«                                               »\n",
       "«q_5: ──────────────────────────────────────────»\n",
       "«                                               »\n",
       "«                                                                          »\n",
       "«q_0: ──────────────────────────────────■──────────────────────────────────»\n",
       "«             ┌─────────────┐         ┌─┴─┐┌──────────────────────────────┐»\n",
       "«q_1: ────────┤ P(2.0*x[1]) ├─────────┤ X ├┤ P(2.0*(π - x[0])*(π - x[1])) ├»\n",
       "«             └─────────────┘         └───┘└────────────┬───┬─────────────┘»\n",
       "«q_2: ──────────────────────────────────■───────────────┤ H ├──────────────»\n",
       "«     ┌──────────────────────────────┐┌─┴─┐             └───┘              »\n",
       "«q_3: ┤ P(2.0*(π - x[2])*(π - x[3])) ├┤ X ├───────────────■────────────────»\n",
       "«     └──────────────────────────────┘└───┘             ┌─┴─┐              »\n",
       "«q_4: ──────────────────────────────────────────────────┤ X ├──────────────»\n",
       "«                                                       └───┘              »\n",
       "«q_5: ─────────────────────────────────────────────────────────────────────»\n",
       "«                                                                          »\n",
       "«                                                                          »\n",
       "«q_0: ───────────────■─────────────────────────────────────────────────────»\n",
       "«                  ┌─┴─┐                                                   »\n",
       "«q_1: ─────────────┤ X ├────────────────■──────────────────────────────────»\n",
       "«             ┌────┴───┴────┐         ┌─┴─┐┌──────────────────────────────┐»\n",
       "«q_2: ────────┤ P(2.0*x[2]) ├─────────┤ X ├┤ P(2.0*(π - x[1])*(π - x[2])) ├»\n",
       "«             └─────────────┘         └───┘└────────────┬───┬─────────────┘»\n",
       "«q_3: ──────────────────────────────────■───────────────┤ H ├──────────────»\n",
       "«     ┌──────────────────────────────┐┌─┴─┐             └───┘              »\n",
       "«q_4: ┤ P(2.0*(π - x[3])*(π - x[4])) ├┤ X ├───────────────■────────────────»\n",
       "«     └──────────────────────────────┘└───┘             ┌─┴─┐              »\n",
       "«q_5: ──────────────────────────────────────────────────┤ X ├──────────────»\n",
       "«                                                       └───┘              »\n",
       "«                                                                          »\n",
       "«q_0: ─────────────────────────────────────────────────────────────────────»\n",
       "«                                                                          »\n",
       "«q_1: ───────────────■─────────────────────────────────────────────────────»\n",
       "«                  ┌─┴─┐                                                   »\n",
       "«q_2: ─────────────┤ X ├────────────────■──────────────────────────────────»\n",
       "«             ┌────┴───┴────┐         ┌─┴─┐┌──────────────────────────────┐»\n",
       "«q_3: ────────┤ P(2.0*x[3]) ├─────────┤ X ├┤ P(2.0*(π - x[2])*(π - x[3])) ├»\n",
       "«             └─────────────┘         └───┘└────────────┬───┬─────────────┘»\n",
       "«q_4: ──────────────────────────────────■───────────────┤ H ├──────────────»\n",
       "«     ┌──────────────────────────────┐┌─┴─┐             ├───┤              »\n",
       "«q_5: ┤ P(2.0*(π - x[4])*(π - x[5])) ├┤ X ├─────────────┤ H ├──────────────»\n",
       "«     └──────────────────────────────┘└───┘             └───┘              »\n",
       "«                                                                   »\n",
       "«q_0: ──────────────────────────────────────────────────────────────»\n",
       "«                                                                   »\n",
       "«q_1: ──────────────────────────────────────────────────────────────»\n",
       "«                                                                   »\n",
       "«q_2: ───────■──────────────────────────────────────────────────────»\n",
       "«          ┌─┴─┐                                                    »\n",
       "«q_3: ─────┤ X ├───────■────────────────────────────────────■───────»\n",
       "«     ┌────┴───┴────┐┌─┴─┐┌──────────────────────────────┐┌─┴─┐     »\n",
       "«q_4: ┤ P(2.0*x[4]) ├┤ X ├┤ P(2.0*(π - x[3])*(π - x[4])) ├┤ X ├──■──»\n",
       "«     ├─────────────┤└───┘└──────────────────────────────┘└───┘┌─┴─┐»\n",
       "«q_5: ┤ P(2.0*x[5]) ├──────────────────────────────────────────┤ X ├»\n",
       "«     └─────────────┘                                          └───┘»\n",
       "«                                          \n",
       "«q_0: ─────────────────────────────────────\n",
       "«                                          \n",
       "«q_1: ─────────────────────────────────────\n",
       "«                                          \n",
       "«q_2: ─────────────────────────────────────\n",
       "«                                          \n",
       "«q_3: ─────────────────────────────────────\n",
       "«                                          \n",
       "«q_4: ──────────────────────────────────■──\n",
       "«     ┌──────────────────────────────┐┌─┴─┐\n",
       "«q_5: ┤ P(2.0*(π - x[4])*(π - x[5])) ├┤ X ├\n",
       "«     └──────────────────────────────┘└───┘</pre>"
      ],
      "text/plain": [
       "     ┌───┐┌─────────────┐                                          ┌───┐»\n",
       "q_0: ┤ H ├┤ P(2.0*x[0]) ├──■────────────────────────────────────■──┤ H ├»\n",
       "     ├───┤├─────────────┤┌─┴─┐┌──────────────────────────────┐┌─┴─┐└───┘»\n",
       "q_1: ┤ H ├┤ P(2.0*x[1]) ├┤ X ├┤ P(2.0*(π - x[0])*(π - x[1])) ├┤ X ├──■──»\n",
       "     ├───┤├─────────────┤└───┘└──────────────────────────────┘└───┘┌─┴─┐»\n",
       "q_2: ┤ H ├┤ P(2.0*x[2]) ├──────────────────────────────────────────┤ X ├»\n",
       "     ├───┤├─────────────┤                                          └───┘»\n",
       "q_3: ┤ H ├┤ P(2.0*x[3]) ├───────────────────────────────────────────────»\n",
       "     ├───┤├─────────────┤                                               »\n",
       "q_4: ┤ H ├┤ P(2.0*x[4]) ├───────────────────────────────────────────────»\n",
       "     ├───┤├─────────────┤                                               »\n",
       "q_5: ┤ H ├┤ P(2.0*x[5]) ├───────────────────────────────────────────────»\n",
       "     └───┘└─────────────┘                                               »\n",
       "«             ┌─────────────┐                   »\n",
       "«q_0: ────────┤ P(2.0*x[0]) ├───────────────────»\n",
       "«             └─────────────┘              ┌───┐»\n",
       "«q_1: ──────────────────────────────────■──┤ H ├»\n",
       "«     ┌──────────────────────────────┐┌─┴─┐└───┘»\n",
       "«q_2: ┤ P(2.0*(π - x[1])*(π - x[2])) ├┤ X ├──■──»\n",
       "«     └──────────────────────────────┘└───┘┌─┴─┐»\n",
       "«q_3: ─────────────────────────────────────┤ X ├»\n",
       "«                                          └───┘»\n",
       "«q_4: ──────────────────────────────────────────»\n",
       "«                                               »\n",
       "«q_5: ──────────────────────────────────────────»\n",
       "«                                               »\n",
       "«                                                                          »\n",
       "«q_0: ──────────────────────────────────■──────────────────────────────────»\n",
       "«             ┌─────────────┐         ┌─┴─┐┌──────────────────────────────┐»\n",
       "«q_1: ────────┤ P(2.0*x[1]) ├─────────┤ X ├┤ P(2.0*(π - x[0])*(π - x[1])) ├»\n",
       "«             └─────────────┘         └───┘└────────────┬───┬─────────────┘»\n",
       "«q_2: ──────────────────────────────────■───────────────┤ H ├──────────────»\n",
       "«     ┌──────────────────────────────┐┌─┴─┐             └───┘              »\n",
       "«q_3: ┤ P(2.0*(π - x[2])*(π - x[3])) ├┤ X ├───────────────■────────────────»\n",
       "«     └──────────────────────────────┘└───┘             ┌─┴─┐              »\n",
       "«q_4: ──────────────────────────────────────────────────┤ X ├──────────────»\n",
       "«                                                       └───┘              »\n",
       "«q_5: ─────────────────────────────────────────────────────────────────────»\n",
       "«                                                                          »\n",
       "«                                                                          »\n",
       "«q_0: ───────────────■─────────────────────────────────────────────────────»\n",
       "«                  ┌─┴─┐                                                   »\n",
       "«q_1: ─────────────┤ X ├────────────────■──────────────────────────────────»\n",
       "«             ┌────┴───┴────┐         ┌─┴─┐┌──────────────────────────────┐»\n",
       "«q_2: ────────┤ P(2.0*x[2]) ├─────────┤ X ├┤ P(2.0*(π - x[1])*(π - x[2])) ├»\n",
       "«             └─────────────┘         └───┘└────────────┬───┬─────────────┘»\n",
       "«q_3: ──────────────────────────────────■───────────────┤ H ├──────────────»\n",
       "«     ┌──────────────────────────────┐┌─┴─┐             └───┘              »\n",
       "«q_4: ┤ P(2.0*(π - x[3])*(π - x[4])) ├┤ X ├───────────────■────────────────»\n",
       "«     └──────────────────────────────┘└───┘             ┌─┴─┐              »\n",
       "«q_5: ──────────────────────────────────────────────────┤ X ├──────────────»\n",
       "«                                                       └───┘              »\n",
       "«                                                                          »\n",
       "«q_0: ─────────────────────────────────────────────────────────────────────»\n",
       "«                                                                          »\n",
       "«q_1: ───────────────■─────────────────────────────────────────────────────»\n",
       "«                  ┌─┴─┐                                                   »\n",
       "«q_2: ─────────────┤ X ├────────────────■──────────────────────────────────»\n",
       "«             ┌────┴───┴────┐         ┌─┴─┐┌──────────────────────────────┐»\n",
       "«q_3: ────────┤ P(2.0*x[3]) ├─────────┤ X ├┤ P(2.0*(π - x[2])*(π - x[3])) ├»\n",
       "«             └─────────────┘         └───┘└────────────┬───┬─────────────┘»\n",
       "«q_4: ──────────────────────────────────■───────────────┤ H ├──────────────»\n",
       "«     ┌──────────────────────────────┐┌─┴─┐             ├───┤              »\n",
       "«q_5: ┤ P(2.0*(π - x[4])*(π - x[5])) ├┤ X ├─────────────┤ H ├──────────────»\n",
       "«     └──────────────────────────────┘└───┘             └───┘              »\n",
       "«                                                                   »\n",
       "«q_0: ──────────────────────────────────────────────────────────────»\n",
       "«                                                                   »\n",
       "«q_1: ──────────────────────────────────────────────────────────────»\n",
       "«                                                                   »\n",
       "«q_2: ───────■──────────────────────────────────────────────────────»\n",
       "«          ┌─┴─┐                                                    »\n",
       "«q_3: ─────┤ X ├───────■────────────────────────────────────■───────»\n",
       "«     ┌────┴───┴────┐┌─┴─┐┌──────────────────────────────┐┌─┴─┐     »\n",
       "«q_4: ┤ P(2.0*x[4]) ├┤ X ├┤ P(2.0*(π - x[3])*(π - x[4])) ├┤ X ├──■──»\n",
       "«     ├─────────────┤└───┘└──────────────────────────────┘└───┘┌─┴─┐»\n",
       "«q_5: ┤ P(2.0*x[5]) ├──────────────────────────────────────────┤ X ├»\n",
       "«     └─────────────┘                                          └───┘»\n",
       "«                                          \n",
       "«q_0: ─────────────────────────────────────\n",
       "«                                          \n",
       "«q_1: ─────────────────────────────────────\n",
       "«                                          \n",
       "«q_2: ─────────────────────────────────────\n",
       "«                                          \n",
       "«q_3: ─────────────────────────────────────\n",
       "«                                          \n",
       "«q_4: ──────────────────────────────────■──\n",
       "«     ┌──────────────────────────────┐┌─┴─┐\n",
       "«q_5: ┤ P(2.0*(π - x[4])*(π - x[5])) ├┤ X ├\n",
       "«     └──────────────────────────────┘└───┘"
      ]
     },
     "execution_count": 48,
     "metadata": {},
     "output_type": "execute_result"
    }
   ],
   "source": [
    "def get_zz_feature_map(feature_dim, feature_map_rep, ent):\n",
    "    return ZZFeatureMap(feature_dimension=feature_dim, reps=feature_map_rep, entanglement=ent)\n",
    "\n",
    "fmap_zz = get_zz_feature_map(num_features, 2, 'linear')\n",
    "input_params = fmap_zz.parameters\n",
    "fmap_zz.decompose().draw()#'mpl', scale=0.7)"
   ]
  },
  {
   "cell_type": "code",
   "execution_count": 49,
   "metadata": {},
   "outputs": [
    {
     "data": {
      "text/html": [
       "<pre style=\"word-wrap: normal;white-space: pre;background: #fff0;line-height: 1.1;font-family: &quot;Courier New&quot;,Courier,monospace\">     ┌───┐   ┌──────┐                          ┌───┐  ┌──────┐            »\n",
       "q_0: ┤ H ├───┤ P(0) ├─────■─────────────────■──┤ H ├──┤ P(0) ├────────────»\n",
       "     ├───┤┌──┴──────┴─┐ ┌─┴─┐┌───────────┐┌─┴─┐└───┘  └──────┘       ┌───┐»\n",
       "q_1: ┤ H ├┤ P(0.7933) ├─┤ X ├┤ P(17.247) ├┤ X ├──■────────────────■──┤ H ├»\n",
       "     ├───┤├───────────┴┐└───┘└───────────┘└───┘┌─┴─┐┌──────────┐┌─┴─┐└───┘»\n",
       "q_2: ┤ H ├┤ P(0.79659) ├───────────────────────┤ X ├┤ P(15.06) ├┤ X ├──■──»\n",
       "     ├───┤├────────────┤                       └───┘└──────────┘└───┘┌─┴─┐»\n",
       "q_3: ┤ H ├┤ P(0.33049) ├─────────────────────────────────────────────┤ X ├»\n",
       "     ├───┤├───────────┬┘                                             └───┘»\n",
       "q_4: ┤ H ├┤ P(1.1439) ├───────────────────────────────────────────────────»\n",
       "     ├───┤├───────────┤                                                   »\n",
       "q_5: ┤ H ├┤ P(1.1482) ├───────────────────────────────────────────────────»\n",
       "     └───┘└───────────┘                                                   »\n",
       "«                                                                   »\n",
       "«q_0: ───────────────■─────────────────────■────────────────────────»\n",
       "«     ┌───────────┐┌─┴─┐┌───────────┐    ┌─┴─┐                      »\n",
       "«q_1: ┤ P(0.7933) ├┤ X ├┤ P(17.247) ├────┤ X ├───────■──────────────»\n",
       "«     └───────────┘└───┘└───┬───┬───┘┌───┴───┴────┐┌─┴─┐┌──────────┐»\n",
       "«q_2: ───────────────■──────┤ H ├────┤ P(0.79659) ├┤ X ├┤ P(15.06) ├»\n",
       "«      ┌──────────┐┌─┴─┐    └───┘    └────────────┘└───┘└──┬───┬───┘»\n",
       "«q_3: ─┤ P(16.33) ├┤ X ├──────■──────────────────────■─────┤ H ├────»\n",
       "«      └──────────┘└───┘    ┌─┴─┐    ┌───────────┐ ┌─┴─┐   └───┘    »\n",
       "«q_4: ──────────────────────┤ X ├────┤ P(15.296) ├─┤ X ├─────■──────»\n",
       "«                           └───┘    └───────────┘ └───┘   ┌─┴─┐    »\n",
       "«q_5: ─────────────────────────────────────────────────────┤ X ├────»\n",
       "«                                                          └───┘    »\n",
       "«                                                                             »\n",
       "«q_0: ────────────────────────────────────────────────────────────────────────»\n",
       "«                                                                             »\n",
       "«q_1: ──────■─────────────────────────────────────────────────────────────────»\n",
       "«         ┌─┴─┐                                                               »\n",
       "«q_2: ────┤ X ├───────■────────────────────■──────────────────────────────────»\n",
       "«     ┌───┴───┴────┐┌─┴─┐┌──────────┐    ┌─┴─┐                                »\n",
       "«q_3: ┤ P(0.33049) ├┤ X ├┤ P(16.33) ├────┤ X ├──────■─────────────────■───────»\n",
       "«     └────────────┘└───┘└──┬───┬───┘┌───┴───┴───┐┌─┴─┐┌───────────┐┌─┴─┐     »\n",
       "«q_4: ────────────────■─────┤ H ├────┤ P(1.1439) ├┤ X ├┤ P(15.296) ├┤ X ├──■──»\n",
       "«     ┌───────────┐ ┌─┴─┐   ├───┤    ├───────────┤└───┘└───────────┘└───┘┌─┴─┐»\n",
       "«q_5: ┤ P(13.195) ├─┤ X ├───┤ H ├────┤ P(1.1482) ├───────────────────────┤ X ├»\n",
       "«     └───────────┘ └───┘   └───┘    └───────────┘                       └───┘»\n",
       "«                       \n",
       "«q_0: ──────────────────\n",
       "«                       \n",
       "«q_1: ──────────────────\n",
       "«                       \n",
       "«q_2: ──────────────────\n",
       "«                       \n",
       "«q_3: ──────────────────\n",
       "«                       \n",
       "«q_4: ───────────────■──\n",
       "«     ┌───────────┐┌─┴─┐\n",
       "«q_5: ┤ P(13.195) ├┤ X ├\n",
       "«     └───────────┘└───┘</pre>"
      ],
      "text/plain": [
       "     ┌───┐   ┌──────┐                          ┌───┐  ┌──────┐            »\n",
       "q_0: ┤ H ├───┤ P(0) ├─────■─────────────────■──┤ H ├──┤ P(0) ├────────────»\n",
       "     ├───┤┌──┴──────┴─┐ ┌─┴─┐┌───────────┐┌─┴─┐└───┘  └──────┘       ┌───┐»\n",
       "q_1: ┤ H ├┤ P(0.7933) ├─┤ X ├┤ P(17.247) ├┤ X ├──■────────────────■──┤ H ├»\n",
       "     ├───┤├───────────┴┐└───┘└───────────┘└───┘┌─┴─┐┌──────────┐┌─┴─┐└───┘»\n",
       "q_2: ┤ H ├┤ P(0.79659) ├───────────────────────┤ X ├┤ P(15.06) ├┤ X ├──■──»\n",
       "     ├───┤├────────────┤                       └───┘└──────────┘└───┘┌─┴─┐»\n",
       "q_3: ┤ H ├┤ P(0.33049) ├─────────────────────────────────────────────┤ X ├»\n",
       "     ├───┤├───────────┬┘                                             └───┘»\n",
       "q_4: ┤ H ├┤ P(1.1439) ├───────────────────────────────────────────────────»\n",
       "     ├───┤├───────────┤                                                   »\n",
       "q_5: ┤ H ├┤ P(1.1482) ├───────────────────────────────────────────────────»\n",
       "     └───┘└───────────┘                                                   »\n",
       "«                                                                   »\n",
       "«q_0: ───────────────■─────────────────────■────────────────────────»\n",
       "«     ┌───────────┐┌─┴─┐┌───────────┐    ┌─┴─┐                      »\n",
       "«q_1: ┤ P(0.7933) ├┤ X ├┤ P(17.247) ├────┤ X ├───────■──────────────»\n",
       "«     └───────────┘└───┘└───┬───┬───┘┌───┴───┴────┐┌─┴─┐┌──────────┐»\n",
       "«q_2: ───────────────■──────┤ H ├────┤ P(0.79659) ├┤ X ├┤ P(15.06) ├»\n",
       "«      ┌──────────┐┌─┴─┐    └───┘    └────────────┘└───┘└──┬───┬───┘»\n",
       "«q_3: ─┤ P(16.33) ├┤ X ├──────■──────────────────────■─────┤ H ├────»\n",
       "«      └──────────┘└───┘    ┌─┴─┐    ┌───────────┐ ┌─┴─┐   └───┘    »\n",
       "«q_4: ──────────────────────┤ X ├────┤ P(15.296) ├─┤ X ├─────■──────»\n",
       "«                           └───┘    └───────────┘ └───┘   ┌─┴─┐    »\n",
       "«q_5: ─────────────────────────────────────────────────────┤ X ├────»\n",
       "«                                                          └───┘    »\n",
       "«                                                                             »\n",
       "«q_0: ────────────────────────────────────────────────────────────────────────»\n",
       "«                                                                             »\n",
       "«q_1: ──────■─────────────────────────────────────────────────────────────────»\n",
       "«         ┌─┴─┐                                                               »\n",
       "«q_2: ────┤ X ├───────■────────────────────■──────────────────────────────────»\n",
       "«     ┌───┴───┴────┐┌─┴─┐┌──────────┐    ┌─┴─┐                                »\n",
       "«q_3: ┤ P(0.33049) ├┤ X ├┤ P(16.33) ├────┤ X ├──────■─────────────────■───────»\n",
       "«     └────────────┘└───┘└──┬───┬───┘┌───┴───┴───┐┌─┴─┐┌───────────┐┌─┴─┐     »\n",
       "«q_4: ────────────────■─────┤ H ├────┤ P(1.1439) ├┤ X ├┤ P(15.296) ├┤ X ├──■──»\n",
       "«     ┌───────────┐ ┌─┴─┐   ├───┤    ├───────────┤└───┘└───────────┘└───┘┌─┴─┐»\n",
       "«q_5: ┤ P(13.195) ├─┤ X ├───┤ H ├────┤ P(1.1482) ├───────────────────────┤ X ├»\n",
       "«     └───────────┘ └───┘   └───┘    └───────────┘                       └───┘»\n",
       "«                       \n",
       "«q_0: ──────────────────\n",
       "«                       \n",
       "«q_1: ──────────────────\n",
       "«                       \n",
       "«q_2: ──────────────────\n",
       "«                       \n",
       "«q_3: ──────────────────\n",
       "«                       \n",
       "«q_4: ───────────────■──\n",
       "«     ┌───────────┐┌─┴─┐\n",
       "«q_5: ┤ P(13.195) ├┤ X ├\n",
       "«     └───────────┘└───┘"
      ]
     },
     "execution_count": 49,
     "metadata": {},
     "output_type": "execute_result"
    }
   ],
   "source": [
    "fmap_zz.assign_parameters({k:v for (k,v) in zip(fmap_zz.parameters, x[0])}).decompose().draw()#'mpl', scale=0.7)"
   ]
  },
  {
   "cell_type": "markdown",
   "metadata": {},
   "source": [
    "# Ansatz"
   ]
  },
  {
   "cell_type": "code",
   "execution_count": 50,
   "metadata": {},
   "outputs": [
    {
     "data": {
      "text/html": [
       "<pre style=\"word-wrap: normal;white-space: pre;background: #fff0;line-height: 1.1;font-family: &quot;Courier New&quot;,Courier,monospace\">                 ┌───┐┌──────────┐                 ┌───┐┌─────────┐\n",
       "q_0: ────────────┤ X ├┤ Rz(θ[0]) ├──■──────────────┤ X ├┤ Rz(π/2) ├\n",
       "     ┌──────────┐└─┬─┘├──────────┤┌─┴─┐┌──────────┐└─┬─┘└─────────┘\n",
       "q_1: ┤ Rz(-π/2) ├──■──┤ Ry(θ[1]) ├┤ X ├┤ Ry(θ[2]) ├──■─────────────\n",
       "     └──────────┘     └──────────┘└───┘└──────────┘                </pre>"
      ],
      "text/plain": [
       "                 ┌───┐┌──────────┐                 ┌───┐┌─────────┐\n",
       "q_0: ────────────┤ X ├┤ Rz(θ[0]) ├──■──────────────┤ X ├┤ Rz(π/2) ├\n",
       "     ┌──────────┐└─┬─┘├──────────┤┌─┴─┐┌──────────┐└─┬─┘└─────────┘\n",
       "q_1: ┤ Rz(-π/2) ├──■──┤ Ry(θ[1]) ├┤ X ├┤ Ry(θ[2]) ├──■─────────────\n",
       "     └──────────┘     └──────────┘└───┘└──────────┘                "
      ]
     },
     "execution_count": 50,
     "metadata": {},
     "output_type": "execute_result"
    }
   ],
   "source": [
    "def conv_circuit(params):\n",
    "    target = QuantumCircuit(2)\n",
    "    target.rz(-np.pi / 2, 1)\n",
    "    target.cx(1, 0)\n",
    "    target.rz(params[0], 0)\n",
    "    target.ry(params[1], 1)\n",
    "    target.cx(0, 1)\n",
    "    target.ry(params[2], 1)\n",
    "    target.cx(1, 0)\n",
    "    target.rz(np.pi / 2, 0)\n",
    "    return target\n",
    "\n",
    "\n",
    "# Let's draw this circuit and see what it looks like\n",
    "params = ParameterVector(\"θ\", length=3)\n",
    "circuit = conv_circuit(params)\n",
    "circuit.draw()"
   ]
  },
  {
   "cell_type": "code",
   "execution_count": 51,
   "metadata": {},
   "outputs": [
    {
     "data": {
      "text/html": [
       "<pre style=\"word-wrap: normal;white-space: pre;background: #fff0;line-height: 1.1;font-family: &quot;Courier New&quot;,Courier,monospace\">                 ┌───┐┌──────────┐                 ┌───┐┌─────────┐ ░ »\n",
       "q_0: ────────────┤ X ├┤ Rz(θ[0]) ├──■──────────────┤ X ├┤ Rz(π/2) ├─░─»\n",
       "     ┌──────────┐└─┬─┘├──────────┤┌─┴─┐┌──────────┐└─┬─┘└─────────┘ ░ »\n",
       "q_1: ┤ Rz(-π/2) ├──■──┤ Ry(θ[1]) ├┤ X ├┤ Ry(θ[2]) ├──■──────────────░─»\n",
       "     └──────────┘     └──────────┘└───┘└──────────┘                 ░ »\n",
       "q_2: ───────────────────────────────────────────────────────────────░─»\n",
       "                                                                    ░ »\n",
       "q_3: ───────────────────────────────────────────────────────────────░─»\n",
       "                                                                    ░ »\n",
       "«                                                                    ░ »\n",
       "«q_0: ───────────────────────────────────────────────────────────────░─»\n",
       "«                                                                    ░ »\n",
       "«q_1: ───────────────────────────────────────────────────────────────░─»\n",
       "«                 ┌───┐┌──────────┐                 ┌───┐┌─────────┐ ░ »\n",
       "«q_2: ────────────┤ X ├┤ Rz(θ[3]) ├──■──────────────┤ X ├┤ Rz(π/2) ├─░─»\n",
       "«     ┌──────────┐└─┬─┘├──────────┤┌─┴─┐┌──────────┐└─┬─┘└─────────┘ ░ »\n",
       "«q_3: ┤ Rz(-π/2) ├──■──┤ Ry(θ[4]) ├┤ X ├┤ Ry(θ[5]) ├──■──────────────░─»\n",
       "«     └──────────┘     └──────────┘└───┘└──────────┘                 ░ »\n",
       "«                                                                    ░ »\n",
       "«q_0: ───────────────────────────────────────────────────────────────░─»\n",
       "«                 ┌───┐┌──────────┐                 ┌───┐┌─────────┐ ░ »\n",
       "«q_1: ────────────┤ X ├┤ Rz(θ[6]) ├──■──────────────┤ X ├┤ Rz(π/2) ├─░─»\n",
       "«     ┌──────────┐└─┬─┘├──────────┤┌─┴─┐┌──────────┐└─┬─┘└─────────┘ ░ »\n",
       "«q_2: ┤ Rz(-π/2) ├──■──┤ Ry(θ[7]) ├┤ X ├┤ Ry(θ[8]) ├──■──────────────░─»\n",
       "«     └──────────┘     └──────────┘└───┘└──────────┘                 ░ »\n",
       "«q_3: ───────────────────────────────────────────────────────────────░─»\n",
       "«                                                                    ░ »\n",
       "«     ┌──────────┐     ┌───────────┐┌───┐┌───────────┐                 ░ \n",
       "«q_0: ┤ Rz(-π/2) ├──■──┤ Ry(θ[10]) ├┤ X ├┤ Ry(θ[11]) ├──■──────────────░─\n",
       "«     └──────────┘  │  └───────────┘└─┬─┘└───────────┘  │              ░ \n",
       "«q_1: ──────────────┼─────────────────┼─────────────────┼──────────────░─\n",
       "«                   │                 │                 │              ░ \n",
       "«q_2: ──────────────┼─────────────────┼─────────────────┼──────────────░─\n",
       "«                 ┌─┴─┐ ┌──────────┐  │               ┌─┴─┐┌─────────┐ ░ \n",
       "«q_3: ────────────┤ X ├─┤ Rz(θ[9]) ├──■───────────────┤ X ├┤ Rz(π/2) ├─░─\n",
       "«                 └───┘ └──────────┘                  └───┘└─────────┘ ░ </pre>"
      ],
      "text/plain": [
       "                 ┌───┐┌──────────┐                 ┌───┐┌─────────┐ ░ »\n",
       "q_0: ────────────┤ X ├┤ Rz(θ[0]) ├──■──────────────┤ X ├┤ Rz(π/2) ├─░─»\n",
       "     ┌──────────┐└─┬─┘├──────────┤┌─┴─┐┌──────────┐└─┬─┘└─────────┘ ░ »\n",
       "q_1: ┤ Rz(-π/2) ├──■──┤ Ry(θ[1]) ├┤ X ├┤ Ry(θ[2]) ├──■──────────────░─»\n",
       "     └──────────┘     └──────────┘└───┘└──────────┘                 ░ »\n",
       "q_2: ───────────────────────────────────────────────────────────────░─»\n",
       "                                                                    ░ »\n",
       "q_3: ───────────────────────────────────────────────────────────────░─»\n",
       "                                                                    ░ »\n",
       "«                                                                    ░ »\n",
       "«q_0: ───────────────────────────────────────────────────────────────░─»\n",
       "«                                                                    ░ »\n",
       "«q_1: ───────────────────────────────────────────────────────────────░─»\n",
       "«                 ┌───┐┌──────────┐                 ┌───┐┌─────────┐ ░ »\n",
       "«q_2: ────────────┤ X ├┤ Rz(θ[3]) ├──■──────────────┤ X ├┤ Rz(π/2) ├─░─»\n",
       "«     ┌──────────┐└─┬─┘├──────────┤┌─┴─┐┌──────────┐└─┬─┘└─────────┘ ░ »\n",
       "«q_3: ┤ Rz(-π/2) ├──■──┤ Ry(θ[4]) ├┤ X ├┤ Ry(θ[5]) ├──■──────────────░─»\n",
       "«     └──────────┘     └──────────┘└───┘└──────────┘                 ░ »\n",
       "«                                                                    ░ »\n",
       "«q_0: ───────────────────────────────────────────────────────────────░─»\n",
       "«                 ┌───┐┌──────────┐                 ┌───┐┌─────────┐ ░ »\n",
       "«q_1: ────────────┤ X ├┤ Rz(θ[6]) ├──■──────────────┤ X ├┤ Rz(π/2) ├─░─»\n",
       "«     ┌──────────┐└─┬─┘├──────────┤┌─┴─┐┌──────────┐└─┬─┘└─────────┘ ░ »\n",
       "«q_2: ┤ Rz(-π/2) ├──■──┤ Ry(θ[7]) ├┤ X ├┤ Ry(θ[8]) ├──■──────────────░─»\n",
       "«     └──────────┘     └──────────┘└───┘└──────────┘                 ░ »\n",
       "«q_3: ───────────────────────────────────────────────────────────────░─»\n",
       "«                                                                    ░ »\n",
       "«     ┌──────────┐     ┌───────────┐┌───┐┌───────────┐                 ░ \n",
       "«q_0: ┤ Rz(-π/2) ├──■──┤ Ry(θ[10]) ├┤ X ├┤ Ry(θ[11]) ├──■──────────────░─\n",
       "«     └──────────┘  │  └───────────┘└─┬─┘└───────────┘  │              ░ \n",
       "«q_1: ──────────────┼─────────────────┼─────────────────┼──────────────░─\n",
       "«                   │                 │                 │              ░ \n",
       "«q_2: ──────────────┼─────────────────┼─────────────────┼──────────────░─\n",
       "«                 ┌─┴─┐ ┌──────────┐  │               ┌─┴─┐┌─────────┐ ░ \n",
       "«q_3: ────────────┤ X ├─┤ Rz(θ[9]) ├──■───────────────┤ X ├┤ Rz(π/2) ├─░─\n",
       "«                 └───┘ └──────────┘                  └───┘└─────────┘ ░ "
      ]
     },
     "execution_count": 51,
     "metadata": {},
     "output_type": "execute_result"
    }
   ],
   "source": [
    "def conv_layer(num_qubits, param_prefix):\n",
    "    qc = QuantumCircuit(num_qubits, name=\"Convolutional Layer\")\n",
    "    qubits = list(range(num_qubits))\n",
    "    param_index = 0\n",
    "    params = ParameterVector(param_prefix, length=num_qubits * 3)\n",
    "    for q1, q2 in zip(qubits[0::2], qubits[1::2]):\n",
    "        qc = qc.compose(conv_circuit(params[param_index : (param_index + 3)]), [q1, q2])\n",
    "        qc.barrier()\n",
    "        param_index += 3\n",
    "    for q1, q2 in zip(qubits[1::2], qubits[2::2] + [0]):\n",
    "        qc = qc.compose(conv_circuit(params[param_index : (param_index + 3)]), [q1, q2])\n",
    "        qc.barrier()\n",
    "        param_index += 3\n",
    "\n",
    "    qc_inst = qc.to_instruction()\n",
    "\n",
    "    qc = QuantumCircuit(num_qubits)\n",
    "    qc.append(qc_inst, qubits)\n",
    "    return qc\n",
    "\n",
    "\n",
    "circuit = conv_layer(4, \"θ\")\n",
    "circuit.decompose().draw()"
   ]
  },
  {
   "cell_type": "code",
   "execution_count": 52,
   "metadata": {},
   "outputs": [
    {
     "data": {
      "text/html": [
       "<pre style=\"word-wrap: normal;white-space: pre;background: #fff0;line-height: 1.1;font-family: &quot;Courier New&quot;,Courier,monospace\">                 ┌───┐┌──────────┐                 \n",
       "q_0: ────────────┤ X ├┤ Rz(θ[0]) ├──■──────────────\n",
       "     ┌──────────┐└─┬─┘├──────────┤┌─┴─┐┌──────────┐\n",
       "q_1: ┤ Rz(-π/2) ├──■──┤ Ry(θ[1]) ├┤ X ├┤ Ry(θ[2]) ├\n",
       "     └──────────┘     └──────────┘└───┘└──────────┘</pre>"
      ],
      "text/plain": [
       "                 ┌───┐┌──────────┐                 \n",
       "q_0: ────────────┤ X ├┤ Rz(θ[0]) ├──■──────────────\n",
       "     ┌──────────┐└─┬─┘├──────────┤┌─┴─┐┌──────────┐\n",
       "q_1: ┤ Rz(-π/2) ├──■──┤ Ry(θ[1]) ├┤ X ├┤ Ry(θ[2]) ├\n",
       "     └──────────┘     └──────────┘└───┘└──────────┘"
      ]
     },
     "execution_count": 52,
     "metadata": {},
     "output_type": "execute_result"
    }
   ],
   "source": [
    "def pool_circuit(params):\n",
    "    target = QuantumCircuit(2)\n",
    "    target.rz(-np.pi / 2, 1)\n",
    "    target.cx(1, 0)\n",
    "    target.rz(params[0], 0)\n",
    "    target.ry(params[1], 1)\n",
    "    target.cx(0, 1)\n",
    "    target.ry(params[2], 1)\n",
    "\n",
    "    return target\n",
    "\n",
    "\n",
    "params = ParameterVector(\"θ\", length=3)\n",
    "circuit = pool_circuit(params)\n",
    "circuit.draw()"
   ]
  },
  {
   "cell_type": "code",
   "execution_count": 53,
   "metadata": {},
   "outputs": [
    {
     "data": {
      "text/html": [
       "<pre style=\"word-wrap: normal;white-space: pre;background: #fff0;line-height: 1.1;font-family: &quot;Courier New&quot;,Courier,monospace\">                 ┌───┐┌──────────┐                  ░                  »\n",
       "q_0: ────────────┤ X ├┤ Rz(θ[0]) ├──■───────────────░──────────────────»\n",
       "                 └─┬─┘└──────────┘  │               ░             ┌───┐»\n",
       "q_1: ──────────────┼────────────────┼───────────────░─────────────┤ X ├»\n",
       "     ┌──────────┐  │  ┌──────────┐┌─┴─┐┌──────────┐ ░             └─┬─┘»\n",
       "q_2: ┤ Rz(-π/2) ├──■──┤ Ry(θ[1]) ├┤ X ├┤ Ry(θ[2]) ├─░───────────────┼──»\n",
       "     └──────────┘     └──────────┘└───┘└──────────┘ ░ ┌──────────┐  │  »\n",
       "q_3: ───────────────────────────────────────────────░─┤ Rz(-π/2) ├──■──»\n",
       "                                                    ░ └──────────┘     »\n",
       "«                                   ░ \n",
       "«q_0: ──────────────────────────────░─\n",
       "«     ┌──────────┐                  ░ \n",
       "«q_1: ┤ Rz(θ[3]) ├──■───────────────░─\n",
       "«     └──────────┘  │               ░ \n",
       "«q_2: ──────────────┼───────────────░─\n",
       "«     ┌──────────┐┌─┴─┐┌──────────┐ ░ \n",
       "«q_3: ┤ Ry(θ[4]) ├┤ X ├┤ Ry(θ[5]) ├─░─\n",
       "«     └──────────┘└───┘└──────────┘ ░ </pre>"
      ],
      "text/plain": [
       "                 ┌───┐┌──────────┐                  ░                  »\n",
       "q_0: ────────────┤ X ├┤ Rz(θ[0]) ├──■───────────────░──────────────────»\n",
       "                 └─┬─┘└──────────┘  │               ░             ┌───┐»\n",
       "q_1: ──────────────┼────────────────┼───────────────░─────────────┤ X ├»\n",
       "     ┌──────────┐  │  ┌──────────┐┌─┴─┐┌──────────┐ ░             └─┬─┘»\n",
       "q_2: ┤ Rz(-π/2) ├──■──┤ Ry(θ[1]) ├┤ X ├┤ Ry(θ[2]) ├─░───────────────┼──»\n",
       "     └──────────┘     └──────────┘└───┘└──────────┘ ░ ┌──────────┐  │  »\n",
       "q_3: ───────────────────────────────────────────────░─┤ Rz(-π/2) ├──■──»\n",
       "                                                    ░ └──────────┘     »\n",
       "«                                   ░ \n",
       "«q_0: ──────────────────────────────░─\n",
       "«     ┌──────────┐                  ░ \n",
       "«q_1: ┤ Rz(θ[3]) ├──■───────────────░─\n",
       "«     └──────────┘  │               ░ \n",
       "«q_2: ──────────────┼───────────────░─\n",
       "«     ┌──────────┐┌─┴─┐┌──────────┐ ░ \n",
       "«q_3: ┤ Ry(θ[4]) ├┤ X ├┤ Ry(θ[5]) ├─░─\n",
       "«     └──────────┘└───┘└──────────┘ ░ "
      ]
     },
     "execution_count": 53,
     "metadata": {},
     "output_type": "execute_result"
    }
   ],
   "source": [
    "def pool_layer(sources, sinks, param_prefix):\n",
    "    num_qubits = len(sources) + len(sinks)\n",
    "    qc = QuantumCircuit(num_qubits, name=\"Pooling Layer\")\n",
    "    param_index = 0\n",
    "    params = ParameterVector(param_prefix, length=num_qubits // 2 * 3)\n",
    "    for source, sink in zip(sources, sinks):\n",
    "        qc = qc.compose(pool_circuit(params[param_index : (param_index + 3)]), [source, sink])\n",
    "        qc.barrier()\n",
    "        param_index += 3\n",
    "\n",
    "    qc_inst = qc.to_instruction()\n",
    "\n",
    "    qc = QuantumCircuit(num_qubits)\n",
    "    qc.append(qc_inst, range(num_qubits))\n",
    "    return qc\n",
    "\n",
    "\n",
    "sources = [0, 1]\n",
    "sinks = [2, 3]\n",
    "circuit = pool_layer(sources, sinks, \"θ\")\n",
    "circuit.decompose().draw()"
   ]
  },
  {
   "cell_type": "code",
   "execution_count": 89,
   "metadata": {},
   "outputs": [
    {
     "data": {
      "text/html": [
       "<pre style=\"word-wrap: normal;white-space: pre;background: #fff0;line-height: 1.1;font-family: &quot;Courier New&quot;,Courier,monospace\">     ┌──────────┐ ┌──────────┐     ┌───────────┐┌───────────┐             »\n",
       "q_0: ┤ Ry(θ[0]) ├─┤ Rz(θ[6]) ├──■──┤ Ry(θ[12]) ├┤ Rz(θ[18]) ├─────────────»\n",
       "     ├──────────┤ ├──────────┤┌─┴─┐└───────────┘├───────────┤┌───────────┐»\n",
       "q_1: ┤ Ry(θ[1]) ├─┤ Rz(θ[7]) ├┤ X ├──────■──────┤ Ry(θ[13]) ├┤ Rz(θ[19]) ├»\n",
       "     ├──────────┤ ├──────────┤└───┘    ┌─┴─┐    └───────────┘├───────────┤»\n",
       "q_2: ┤ Ry(θ[2]) ├─┤ Rz(θ[8]) ├─────────┤ X ├──────────■──────┤ Ry(θ[14]) ├»\n",
       "     ├──────────┤ ├──────────┤         └───┘        ┌─┴─┐    └───────────┘»\n",
       "q_3: ┤ Ry(θ[3]) ├─┤ Rz(θ[9]) ├──────────────────────┤ X ├──────────■──────»\n",
       "     ├──────────┤┌┴──────────┤                      └───┘        ┌─┴─┐    »\n",
       "q_4: ┤ Ry(θ[4]) ├┤ Rz(θ[10]) ├───────────────────────────────────┤ X ├────»\n",
       "     ├──────────┤├───────────┤                                   └───┘    »\n",
       "q_5: ┤ Ry(θ[5]) ├┤ Rz(θ[11]) ├────────────────────────────────────────────»\n",
       "     └──────────┘└───────────┘                                            »\n",
       "«                  ┌───────────┐┌───────────┐                          »\n",
       "«q_0: ──────■──────┤ Ry(θ[24]) ├┤ Rz(θ[30]) ├──────────────────────────»\n",
       "«         ┌─┴─┐    └───────────┘├───────────┤┌───────────┐             »\n",
       "«q_1: ────┤ X ├──────────■──────┤ Ry(θ[25]) ├┤ Rz(θ[31]) ├─────────────»\n",
       "«     ┌───┴───┴───┐    ┌─┴─┐    └───────────┘├───────────┤┌───────────┐»\n",
       "«q_2: ┤ Rz(θ[20]) ├────┤ X ├──────────■──────┤ Ry(θ[26]) ├┤ Rz(θ[32]) ├»\n",
       "«     ├───────────┤┌───┴───┴───┐    ┌─┴─┐    └───────────┘├───────────┤»\n",
       "«q_3: ┤ Ry(θ[15]) ├┤ Rz(θ[21]) ├────┤ X ├──────────■──────┤ Ry(θ[27]) ├»\n",
       "«     └───────────┘├───────────┤┌───┴───┴───┐    ┌─┴─┐    └───────────┘»\n",
       "«q_4: ──────■──────┤ Ry(θ[16]) ├┤ Rz(θ[22]) ├────┤ X ├──────────■──────»\n",
       "«         ┌─┴─┐    ├───────────┤├───────────┤    └───┘        ┌─┴─┐    »\n",
       "«q_5: ────┤ X ├────┤ Ry(θ[17]) ├┤ Rz(θ[23]) ├─────────────────┤ X ├────»\n",
       "«         └───┘    └───────────┘└───────────┘                 └───┘    »\n",
       "«                               \n",
       "«q_0: ──────────────────────────\n",
       "«                               \n",
       "«q_1: ──────────────────────────\n",
       "«                               \n",
       "«q_2: ──────────────────────────\n",
       "«     ┌───────────┐             \n",
       "«q_3: ┤ Rz(θ[33]) ├─────────────\n",
       "«     ├───────────┤┌───────────┐\n",
       "«q_4: ┤ Ry(θ[28]) ├┤ Rz(θ[34]) ├\n",
       "«     ├───────────┤├───────────┤\n",
       "«q_5: ┤ Ry(θ[29]) ├┤ Rz(θ[35]) ├\n",
       "«     └───────────┘└───────────┘</pre>"
      ],
      "text/plain": [
       "     ┌──────────┐ ┌──────────┐     ┌───────────┐┌───────────┐             »\n",
       "q_0: ┤ Ry(θ[0]) ├─┤ Rz(θ[6]) ├──■──┤ Ry(θ[12]) ├┤ Rz(θ[18]) ├─────────────»\n",
       "     ├──────────┤ ├──────────┤┌─┴─┐└───────────┘├───────────┤┌───────────┐»\n",
       "q_1: ┤ Ry(θ[1]) ├─┤ Rz(θ[7]) ├┤ X ├──────■──────┤ Ry(θ[13]) ├┤ Rz(θ[19]) ├»\n",
       "     ├──────────┤ ├──────────┤└───┘    ┌─┴─┐    └───────────┘├───────────┤»\n",
       "q_2: ┤ Ry(θ[2]) ├─┤ Rz(θ[8]) ├─────────┤ X ├──────────■──────┤ Ry(θ[14]) ├»\n",
       "     ├──────────┤ ├──────────┤         └───┘        ┌─┴─┐    └───────────┘»\n",
       "q_3: ┤ Ry(θ[3]) ├─┤ Rz(θ[9]) ├──────────────────────┤ X ├──────────■──────»\n",
       "     ├──────────┤┌┴──────────┤                      └───┘        ┌─┴─┐    »\n",
       "q_4: ┤ Ry(θ[4]) ├┤ Rz(θ[10]) ├───────────────────────────────────┤ X ├────»\n",
       "     ├──────────┤├───────────┤                                   └───┘    »\n",
       "q_5: ┤ Ry(θ[5]) ├┤ Rz(θ[11]) ├────────────────────────────────────────────»\n",
       "     └──────────┘└───────────┘                                            »\n",
       "«                  ┌───────────┐┌───────────┐                          »\n",
       "«q_0: ──────■──────┤ Ry(θ[24]) ├┤ Rz(θ[30]) ├──────────────────────────»\n",
       "«         ┌─┴─┐    └───────────┘├───────────┤┌───────────┐             »\n",
       "«q_1: ────┤ X ├──────────■──────┤ Ry(θ[25]) ├┤ Rz(θ[31]) ├─────────────»\n",
       "«     ┌───┴───┴───┐    ┌─┴─┐    └───────────┘├───────────┤┌───────────┐»\n",
       "«q_2: ┤ Rz(θ[20]) ├────┤ X ├──────────■──────┤ Ry(θ[26]) ├┤ Rz(θ[32]) ├»\n",
       "«     ├───────────┤┌───┴───┴───┐    ┌─┴─┐    └───────────┘├───────────┤»\n",
       "«q_3: ┤ Ry(θ[15]) ├┤ Rz(θ[21]) ├────┤ X ├──────────■──────┤ Ry(θ[27]) ├»\n",
       "«     └───────────┘├───────────┤┌───┴───┴───┐    ┌─┴─┐    └───────────┘»\n",
       "«q_4: ──────■──────┤ Ry(θ[16]) ├┤ Rz(θ[22]) ├────┤ X ├──────────■──────»\n",
       "«         ┌─┴─┐    ├───────────┤├───────────┤    └───┘        ┌─┴─┐    »\n",
       "«q_5: ────┤ X ├────┤ Ry(θ[17]) ├┤ Rz(θ[23]) ├─────────────────┤ X ├────»\n",
       "«         └───┘    └───────────┘└───────────┘                 └───┘    »\n",
       "«                               \n",
       "«q_0: ──────────────────────────\n",
       "«                               \n",
       "«q_1: ──────────────────────────\n",
       "«                               \n",
       "«q_2: ──────────────────────────\n",
       "«     ┌───────────┐             \n",
       "«q_3: ┤ Rz(θ[33]) ├─────────────\n",
       "«     ├───────────┤┌───────────┐\n",
       "«q_4: ┤ Ry(θ[28]) ├┤ Rz(θ[34]) ├\n",
       "«     ├───────────┤├───────────┤\n",
       "«q_5: ┤ Ry(θ[29]) ├┤ Rz(θ[35]) ├\n",
       "«     └───────────┘└───────────┘"
      ]
     },
     "execution_count": 89,
     "metadata": {},
     "output_type": "execute_result"
    }
   ],
   "source": [
    "def get_two_locals(feature_dim, rotations, var_form_rep, ent):\n",
    "    return TwoLocal(num_qubits=feature_dim, rotation_blocks=rotations, entanglement_blocks='cx', entanglement=ent, reps=var_form_rep)\n",
    "\n",
    "ansatz = get_two_locals(num_features, ['ry', 'rz'], 2, 'linear')\n",
    "weights_params = ansatz.parameters\n",
    "ansatz.decompose().draw()#'mpl', scale=0.7)"
   ]
  },
  {
   "cell_type": "code",
   "execution_count": 95,
   "metadata": {},
   "outputs": [
    {
     "data": {
      "text/html": [
       "<pre style=\"word-wrap: normal;white-space: pre;background: #fff0;line-height: 1.1;font-family: &quot;Courier New&quot;,Courier,monospace\">     ┌─────────────┐ ┌─────────────┐     ┌─────────────┐┌─────────────┐»\n",
       "q_0: ┤ Ry(0.50933) ├─┤ Rz(0.39608) ├──■──┤ Ry(0.60832) ├┤ Rz(0.72708) ├»\n",
       "     ├─────────────┤ ├─────────────┤┌─┴─┐└─────────────┘├─────────────┤»\n",
       "q_1: ┤ Ry(0.94709) ├─┤ Rz(0.11451) ├┤ X ├───────■───────┤ Ry(0.97925) ├»\n",
       "     ├─────────────┴┐├─────────────┤└───┘     ┌─┴─┐     └─────────────┘»\n",
       "q_2: ┤ Ry(0.034634) ├┤ Rz(0.45664) ├──────────┤ X ├────────────■───────»\n",
       "     ├─────────────┬┘└┬────────────┤          └───┘          ┌─┴─┐     »\n",
       "q_3: ┤ Ry(0.13306) ├──┤ Rz(0.8014) ├─────────────────────────┤ X ├─────»\n",
       "     ├─────────────┤ ┌┴────────────┤                         └───┘     »\n",
       "q_4: ┤ Ry(0.68676) ├─┤ Rz(0.31319) ├───────────────────────────────────»\n",
       "     ├─────────────┤ ├─────────────┤                                   »\n",
       "q_5: ┤ Ry(0.43757) ├─┤ Rz(0.66625) ├───────────────────────────────────»\n",
       "     └─────────────┘ └─────────────┘                                   »\n",
       "«                                    ┌─────────────┐  ┌─────────────┐»\n",
       "«q_0: ──────────────────────■────────┤ Ry(0.18655) ├──┤ Rz(0.66043) ├»\n",
       "«     ┌─────────────┐     ┌─┴─┐      └─────────────┘  ├─────────────┤»\n",
       "«q_1: ┤ Rz(0.87552) ├─────┤ X ├─────────────■─────────┤ Ry(0.68781) ├»\n",
       "«     ├─────────────┤ ┌───┴───┴────┐      ┌─┴─┐       └─────────────┘»\n",
       "«q_2: ┤ Ry(0.58683) ├─┤ Rz(0.7115) ├──────┤ X ├──────────────■───────»\n",
       "«     └─────────────┘┌┴────────────┤ ┌────┴───┴────┐       ┌─┴─┐     »\n",
       "«q_3: ───────■───────┤ Ry(0.48678) ├─┤ Rz(0.94095) ├───────┤ X ├─────»\n",
       "«          ┌─┴─┐     └─────────────┘┌┴─────────────┴─┐┌────┴───┴────┐»\n",
       "«q_4: ─────┤ X ├────────────■───────┤ Ry(0.00057314) ├┤ Rz(0.44278) ├»\n",
       "«          └───┘          ┌─┴─┐     └┬─────────────┬─┘├─────────────┤»\n",
       "«q_5: ────────────────────┤ X ├──────┤ Ry(0.34405) ├──┤ Rz(0.55875) ├»\n",
       "«                         └───┘      └─────────────┘  └─────────────┘»\n",
       "«                                                                  \n",
       "«q_0: ─────────────────────────────────────────────────────────────\n",
       "«     ┌─────────────┐                                              \n",
       "«q_1: ┤ Rz(0.66648) ├──────────────────────────────────────────────\n",
       "«     ├─────────────┤┌─────────────┐                               \n",
       "«q_2: ┤ Ry(0.51537) ├┤ Rz(0.32568) ├───────────────────────────────\n",
       "«     └─────────────┘├─────────────┤┌─────────────┐                \n",
       "«q_3: ───────■───────┤ Ry(0.56288) ├┤ Rz(0.76085) ├────────────────\n",
       "«          ┌─┴─┐     └─────────────┘├─────────────┴┐┌─────────────┐\n",
       "«q_4: ─────┤ X ├────────────■───────┤ Ry(0.025341) ├┤ Rz(0.19086) ├\n",
       "«          └───┘          ┌─┴─┐     ├─────────────┬┘├─────────────┤\n",
       "«q_5: ────────────────────┤ X ├─────┤ Ry(0.68432) ├─┤ Rz(0.64619) ├\n",
       "«                         └───┘     └─────────────┘ └─────────────┘</pre>"
      ],
      "text/plain": [
       "     ┌─────────────┐ ┌─────────────┐     ┌─────────────┐┌─────────────┐»\n",
       "q_0: ┤ Ry(0.50933) ├─┤ Rz(0.39608) ├──■──┤ Ry(0.60832) ├┤ Rz(0.72708) ├»\n",
       "     ├─────────────┤ ├─────────────┤┌─┴─┐└─────────────┘├─────────────┤»\n",
       "q_1: ┤ Ry(0.94709) ├─┤ Rz(0.11451) ├┤ X ├───────■───────┤ Ry(0.97925) ├»\n",
       "     ├─────────────┴┐├─────────────┤└───┘     ┌─┴─┐     └─────────────┘»\n",
       "q_2: ┤ Ry(0.034634) ├┤ Rz(0.45664) ├──────────┤ X ├────────────■───────»\n",
       "     ├─────────────┬┘└┬────────────┤          └───┘          ┌─┴─┐     »\n",
       "q_3: ┤ Ry(0.13306) ├──┤ Rz(0.8014) ├─────────────────────────┤ X ├─────»\n",
       "     ├─────────────┤ ┌┴────────────┤                         └───┘     »\n",
       "q_4: ┤ Ry(0.68676) ├─┤ Rz(0.31319) ├───────────────────────────────────»\n",
       "     ├─────────────┤ ├─────────────┤                                   »\n",
       "q_5: ┤ Ry(0.43757) ├─┤ Rz(0.66625) ├───────────────────────────────────»\n",
       "     └─────────────┘ └─────────────┘                                   »\n",
       "«                                    ┌─────────────┐  ┌─────────────┐»\n",
       "«q_0: ──────────────────────■────────┤ Ry(0.18655) ├──┤ Rz(0.66043) ├»\n",
       "«     ┌─────────────┐     ┌─┴─┐      └─────────────┘  ├─────────────┤»\n",
       "«q_1: ┤ Rz(0.87552) ├─────┤ X ├─────────────■─────────┤ Ry(0.68781) ├»\n",
       "«     ├─────────────┤ ┌───┴───┴────┐      ┌─┴─┐       └─────────────┘»\n",
       "«q_2: ┤ Ry(0.58683) ├─┤ Rz(0.7115) ├──────┤ X ├──────────────■───────»\n",
       "«     └─────────────┘┌┴────────────┤ ┌────┴───┴────┐       ┌─┴─┐     »\n",
       "«q_3: ───────■───────┤ Ry(0.48678) ├─┤ Rz(0.94095) ├───────┤ X ├─────»\n",
       "«          ┌─┴─┐     └─────────────┘┌┴─────────────┴─┐┌────┴───┴────┐»\n",
       "«q_4: ─────┤ X ├────────────■───────┤ Ry(0.00057314) ├┤ Rz(0.44278) ├»\n",
       "«          └───┘          ┌─┴─┐     └┬─────────────┬─┘├─────────────┤»\n",
       "«q_5: ────────────────────┤ X ├──────┤ Ry(0.34405) ├──┤ Rz(0.55875) ├»\n",
       "«                         └───┘      └─────────────┘  └─────────────┘»\n",
       "«                                                                  \n",
       "«q_0: ─────────────────────────────────────────────────────────────\n",
       "«     ┌─────────────┐                                              \n",
       "«q_1: ┤ Rz(0.66648) ├──────────────────────────────────────────────\n",
       "«     ├─────────────┤┌─────────────┐                               \n",
       "«q_2: ┤ Ry(0.51537) ├┤ Rz(0.32568) ├───────────────────────────────\n",
       "«     └─────────────┘├─────────────┤┌─────────────┐                \n",
       "«q_3: ───────■───────┤ Ry(0.56288) ├┤ Rz(0.76085) ├────────────────\n",
       "«          ┌─┴─┐     └─────────────┘├─────────────┴┐┌─────────────┐\n",
       "«q_4: ─────┤ X ├────────────■───────┤ Ry(0.025341) ├┤ Rz(0.19086) ├\n",
       "«          └───┘          ┌─┴─┐     ├─────────────┬┘├─────────────┤\n",
       "«q_5: ────────────────────┤ X ├─────┤ Ry(0.68432) ├─┤ Rz(0.64619) ├\n",
       "«                         └───┘     └─────────────┘ └─────────────┘"
      ]
     },
     "execution_count": 95,
     "metadata": {},
     "output_type": "execute_result"
    }
   ],
   "source": [
    "weights = np.random.random(len(ansatz.parameters))\n",
    "ansatz.assign_parameters({k:v for (k,v) in zip(ansatz.parameters, weights)}).decompose().draw()#'mpl', scale=0.7)"
   ]
  },
  {
   "cell_type": "code",
   "execution_count": 100,
   "metadata": {},
   "outputs": [
    {
     "data": {
      "text/html": [
       "<pre style=\"word-wrap: normal;white-space: pre;background: #fff0;line-height: 1.1;font-family: &quot;Courier New&quot;,Courier,monospace\">     ┌──────────────────────────────────────────────┐»\n",
       "q_0: ┤0                                             ├»\n",
       "     │                                              │»\n",
       "q_1: ┤1                                             ├»\n",
       "     │                                              │»\n",
       "q_2: ┤2                                             ├»\n",
       "     │  ZZFeatureMap(x[0],x[1],x[2],x[3],x[4],x[5]) │»\n",
       "q_3: ┤3                                             ├»\n",
       "     │                                              │»\n",
       "q_4: ┤4                                             ├»\n",
       "     │                                              │»\n",
       "q_5: ┤5                                             ├»\n",
       "     └──────────────────────────────────────────────┘»\n",
       "«     ┌──────────────────────────────────────────────────────────────────────────────────────────────────────────────────────────────────────────────────────────────────────────────────────────────────────────────────────────┐\n",
       "«q_0: ┤0                                                                                                                                                                                                                         ├\n",
       "«     │                                                                                                                                                                                                                          │\n",
       "«q_1: ┤1                                                                                                                                                                                                                         ├\n",
       "«     │                                                                                                                                                                                                                          │\n",
       "«q_2: ┤2                                                                                                                                                                                                                         ├\n",
       "«     │  TwoLocal(θ[0],θ[1],θ[2],θ[3],θ[4],θ[5],θ[6],θ[7],θ[8],θ[9],θ[10],θ[11],θ[12],θ[13],θ[14],θ[15],θ[16],θ[17],θ[18],θ[19],θ[20],θ[21],θ[22],θ[23],θ[24],θ[25],θ[26],θ[27],θ[28],θ[29],θ[30],θ[31],θ[32],θ[33],θ[34],θ[35]) │\n",
       "«q_3: ┤3                                                                                                                                                                                                                         ├\n",
       "«     │                                                                                                                                                                                                                          │\n",
       "«q_4: ┤4                                                                                                                                                                                                                         ├\n",
       "«     │                                                                                                                                                                                                                          │\n",
       "«q_5: ┤5                                                                                                                                                                                                                         ├\n",
       "«     └──────────────────────────────────────────────────────────────────────────────────────────────────────────────────────────────────────────────────────────────────────────────────────────────────────────────────────────┘</pre>"
      ],
      "text/plain": [
       "     ┌──────────────────────────────────────────────┐»\n",
       "q_0: ┤0                                             ├»\n",
       "     │                                              │»\n",
       "q_1: ┤1                                             ├»\n",
       "     │                                              │»\n",
       "q_2: ┤2                                             ├»\n",
       "     │  ZZFeatureMap(x[0],x[1],x[2],x[3],x[4],x[5]) │»\n",
       "q_3: ┤3                                             ├»\n",
       "     │                                              │»\n",
       "q_4: ┤4                                             ├»\n",
       "     │                                              │»\n",
       "q_5: ┤5                                             ├»\n",
       "     └──────────────────────────────────────────────┘»\n",
       "«     ┌──────────────────────────────────────────────────────────────────────────────────────────────────────────────────────────────────────────────────────────────────────────────────────────────────────────────────────────┐\n",
       "«q_0: ┤0                                                                                                                                                                                                                         ├\n",
       "«     │                                                                                                                                                                                                                          │\n",
       "«q_1: ┤1                                                                                                                                                                                                                         ├\n",
       "«     │                                                                                                                                                                                                                          │\n",
       "«q_2: ┤2                                                                                                                                                                                                                         ├\n",
       "«     │  TwoLocal(θ[0],θ[1],θ[2],θ[3],θ[4],θ[5],θ[6],θ[7],θ[8],θ[9],θ[10],θ[11],θ[12],θ[13],θ[14],θ[15],θ[16],θ[17],θ[18],θ[19],θ[20],θ[21],θ[22],θ[23],θ[24],θ[25],θ[26],θ[27],θ[28],θ[29],θ[30],θ[31],θ[32],θ[33],θ[34],θ[35]) │\n",
       "«q_3: ┤3                                                                                                                                                                                                                         ├\n",
       "«     │                                                                                                                                                                                                                          │\n",
       "«q_4: ┤4                                                                                                                                                                                                                         ├\n",
       "«     │                                                                                                                                                                                                                          │\n",
       "«q_5: ┤5                                                                                                                                                                                                                         ├\n",
       "«     └──────────────────────────────────────────────────────────────────────────────────────────────────────────────────────────────────────────────────────────────────────────────────────────────────────────────────────────┘"
      ]
     },
     "execution_count": 100,
     "metadata": {},
     "output_type": "execute_result"
    }
   ],
   "source": [
    "var_circuit = fmap_zz.compose(ansatz)\n",
    "var_circuit.draw()#'mpl', scale=0.7)"
   ]
  },
  {
   "cell_type": "markdown",
   "metadata": {},
   "source": [
    "# Primitives\n",
    "\n",
    "For info, see https://docs.quantum.ibm.com/run/primitives"
   ]
  },
  {
   "cell_type": "code",
   "execution_count": 93,
   "metadata": {},
   "outputs": [],
   "source": [
    "# for qiskit_ibm_runtime.Options, see https://docs.quantum.ibm.com/api/qiskit-ibm-runtime/qiskit_ibm_runtime.options.Options\n",
    "options = {}\n",
    "sampler = BackendSampler(backend=qasm_sim, options=options)\n",
    "estimator = BackendEstimator(backend=qasm_sim, options=options)"
   ]
  },
  {
   "cell_type": "markdown",
   "metadata": {},
   "source": [
    "# Quantum Neural Network"
   ]
  },
  {
   "cell_type": "markdown",
   "metadata": {},
   "source": [
    "## SamplerQNN"
   ]
  },
  {
   "cell_type": "code",
   "execution_count": 125,
   "metadata": {},
   "outputs": [],
   "source": [
    "def parity(x, num_classes):\n",
    "    return f\"{x:b}\".count(\"1\") % num_classes\n",
    "\n",
    "def one_qubit_binary(x):\n",
    "    return x % 2"
   ]
  },
  {
   "cell_type": "code",
   "execution_count": 126,
   "metadata": {},
   "outputs": [],
   "source": [
    "var_circuit_with_meas = var_circuit.copy()\n",
    "var_circuit_with_meas.measure_all()"
   ]
  },
  {
   "cell_type": "code",
   "execution_count": 127,
   "metadata": {},
   "outputs": [],
   "source": [
    "paramShiftSampGrad = ParamShiftSamplerGradient(sampler=sampler)\n",
    "\n",
    "sampler_qnn = SamplerQNN(sampler=sampler,\n",
    "                         circuit=var_circuit_with_meas,\n",
    "                         input_params=input_params,     # if your embedding strategy is not a parametrized circuit\n",
    "                                                        # (e.g. amplitude encoding) you will have to do some extra work!\n",
    "                         weight_params=weights_params,  # if you train your embedding as well, the trainable\n",
    "                                                        # parameters of the embedding must be added\n",
    "                         interpret=one_qubit_binary,\n",
    "                         output_shape=2,\n",
    "                         gradient=paramShiftSampGrad)"
   ]
  },
  {
   "cell_type": "markdown",
   "metadata": {},
   "source": [
    "### Forward pass"
   ]
  },
  {
   "cell_type": "code",
   "execution_count": null,
   "metadata": {},
   "outputs": [],
   "source": [
    "# The result of the neural network on a forward pass.\n",
    "output = sampler_qnn.forward(x, weights)\n",
    "print(f\"Output shape for {len(x)} samples: {output.shape}\")\n",
    "print(f\"Output of the forward pass for first sample: {output[0]}\")"
   ]
  },
  {
   "cell_type": "markdown",
   "metadata": {},
   "source": [
    "### Backward pass"
   ]
  },
  {
   "cell_type": "code",
   "execution_count": null,
   "metadata": {},
   "outputs": [],
   "source": [
    "# The result of the neural network on a backward pass\n",
    "_, weights_grad = sampler_qnn.backward(x, weights)\n",
    "print(f\"Output shape for {len(x)} samples: {weights_grad.shape}\")\n",
    "print(f\"Output of the backward pass for first sample: {weights_grad[0]}\")\n"
   ]
  },
  {
   "cell_type": "markdown",
   "metadata": {},
   "source": [
    "## EstimatorQNN"
   ]
  },
  {
   "cell_type": "code",
   "execution_count": 56,
   "metadata": {},
   "outputs": [
    {
     "data": {
      "text/html": [
       "<pre style=\"word-wrap: normal;white-space: pre;background: #fff0;line-height: 1.1;font-family: &quot;Courier New&quot;,Courier,monospace\">     ┌──────────────────────────────────────────────┐»\n",
       "q_0: ┤0                                             ├»\n",
       "     │                                              │»\n",
       "q_1: ┤1                                             ├»\n",
       "     │                                              │»\n",
       "q_2: ┤2                                             ├»\n",
       "     │  ZZFeatureMap(x[0],x[1],x[2],x[3],x[4],x[5]) │»\n",
       "q_3: ┤3                                             ├»\n",
       "     │                                              │»\n",
       "q_4: ┤4                                             ├»\n",
       "     │                                              │»\n",
       "q_5: ┤5                                             ├»\n",
       "     └──────────────────────────────────────────────┘»\n",
       "«     ┌───────────────────────────────────────────────────────────────────────────────────────────────────────────────────────────────────────────┐»\n",
       "«q_0: ┤0                                                                                                                                          ├»\n",
       "«     │                                                                                                                                           │»\n",
       "«q_1: ┤1                                                                                                                                          ├»\n",
       "«     │                                                                                                                                           │»\n",
       "«q_2: ┤2                                                                                                                                          ├»\n",
       "«     │  Convolutional Layer(c1[0],c1[1],c1[2],c1[3],c1[4],c1[5],c1[6],c1[7],c1[8],c1[9],c1[10],c1[11],c1[12],c1[13],c1[14],c1[15],c1[16],c1[17]) │»\n",
       "«q_3: ┤3                                                                                                                                          ├»\n",
       "«     │                                                                                                                                           │»\n",
       "«q_4: ┤4                                                                                                                                          ├»\n",
       "«     │                                                                                                                                           │»\n",
       "«q_5: ┤5                                                                                                                                          ├»\n",
       "«     └───────────────────────────────────────────────────────────────────────────────────────────────────────────────────────────────────────────┘»\n",
       "«     ┌───────────────────────────────────────────────────────────────────────┐»\n",
       "«q_0: ┤0                                                                      ├»\n",
       "«     │                                                                       │»\n",
       "«q_1: ┤1                                                                      ├»\n",
       "«     │                                                                       │»\n",
       "«q_2: ┤2                                                                      ├»\n",
       "«     │  Pooling Layer(p1[0],p1[1],p1[2],p1[3],p1[4],p1[5],p1[6],p1[7],p1[8]) │»\n",
       "«q_3: ┤3                                                                      ├»\n",
       "«     │                                                                       │»\n",
       "«q_4: ┤4                                                                      ├»\n",
       "«     │                                                                       │»\n",
       "«q_5: ┤5                                                                      ├»\n",
       "«     └───────────────────────────────────────────────────────────────────────┘»\n",
       "«                                                                  »\n",
       "«q_0: ─────────────────────────────────────────────────────────────»\n",
       "«                                                                  »\n",
       "«q_1: ─────────────────────────────────────────────────────────────»\n",
       "«                                                                  »\n",
       "«q_2: ─────────────────────────────────────────────────────────────»\n",
       "«     ┌───────────────────────────────────────────────────────────┐»\n",
       "«q_3: ┤0                                                          ├»\n",
       "«     │                                                           │»\n",
       "«q_4: ┤1 Convolutional Layer(c2[0],c2[1],c2[2],c2[3],c2[4],c2[5]) ├»\n",
       "«     │                                                           │»\n",
       "«q_5: ┤2                                                          ├»\n",
       "«     └───────────────────────────────────────────────────────────┘»\n",
       "«                                          »\n",
       "«q_0: ─────────────────────────────────────»\n",
       "«                                          »\n",
       "«q_1: ─────────────────────────────────────»\n",
       "«                                          »\n",
       "«q_2: ─────────────────────────────────────»\n",
       "«     ┌───────────────────────────────────┐»\n",
       "«q_3: ┤0                                  ├»\n",
       "«     │  Pooling Layer(p2[0],p2[1],p2[2]) │»\n",
       "«q_4: ┤1                                  ├»\n",
       "«     └───────────────────────────────────┘»\n",
       "«q_5: ─────────────────────────────────────»\n",
       "«                                          »\n",
       "«                                                                  »\n",
       "«q_0: ─────────────────────────────────────────────────────────────»\n",
       "«                                                                  »\n",
       "«q_1: ─────────────────────────────────────────────────────────────»\n",
       "«                                                                  »\n",
       "«q_2: ─────────────────────────────────────────────────────────────»\n",
       "«                                                                  »\n",
       "«q_3: ─────────────────────────────────────────────────────────────»\n",
       "«     ┌───────────────────────────────────────────────────────────┐»\n",
       "«q_4: ┤0                                                          ├»\n",
       "«     │  Convolutional Layer(c3[0],c3[1],c3[2],c3[3],c3[4],c3[5]) │»\n",
       "«q_5: ┤1                                                          ├»\n",
       "«     └───────────────────────────────────────────────────────────┘»\n",
       "«                                          \n",
       "«q_0: ─────────────────────────────────────\n",
       "«                                          \n",
       "«q_1: ─────────────────────────────────────\n",
       "«                                          \n",
       "«q_2: ─────────────────────────────────────\n",
       "«                                          \n",
       "«q_3: ─────────────────────────────────────\n",
       "«     ┌───────────────────────────────────┐\n",
       "«q_4: ┤0                                  ├\n",
       "«     │  Pooling Layer(p3[0],p3[1],p3[2]) │\n",
       "«q_5: ┤1                                  ├\n",
       "«     └───────────────────────────────────┘</pre>"
      ],
      "text/plain": [
       "     ┌──────────────────────────────────────────────┐»\n",
       "q_0: ┤0                                             ├»\n",
       "     │                                              │»\n",
       "q_1: ┤1                                             ├»\n",
       "     │                                              │»\n",
       "q_2: ┤2                                             ├»\n",
       "     │  ZZFeatureMap(x[0],x[1],x[2],x[3],x[4],x[5]) │»\n",
       "q_3: ┤3                                             ├»\n",
       "     │                                              │»\n",
       "q_4: ┤4                                             ├»\n",
       "     │                                              │»\n",
       "q_5: ┤5                                             ├»\n",
       "     └──────────────────────────────────────────────┘»\n",
       "«     ┌───────────────────────────────────────────────────────────────────────────────────────────────────────────────────────────────────────────┐»\n",
       "«q_0: ┤0                                                                                                                                          ├»\n",
       "«     │                                                                                                                                           │»\n",
       "«q_1: ┤1                                                                                                                                          ├»\n",
       "«     │                                                                                                                                           │»\n",
       "«q_2: ┤2                                                                                                                                          ├»\n",
       "«     │  Convolutional Layer(c1[0],c1[1],c1[2],c1[3],c1[4],c1[5],c1[6],c1[7],c1[8],c1[9],c1[10],c1[11],c1[12],c1[13],c1[14],c1[15],c1[16],c1[17]) │»\n",
       "«q_3: ┤3                                                                                                                                          ├»\n",
       "«     │                                                                                                                                           │»\n",
       "«q_4: ┤4                                                                                                                                          ├»\n",
       "«     │                                                                                                                                           │»\n",
       "«q_5: ┤5                                                                                                                                          ├»\n",
       "«     └───────────────────────────────────────────────────────────────────────────────────────────────────────────────────────────────────────────┘»\n",
       "«     ┌───────────────────────────────────────────────────────────────────────┐»\n",
       "«q_0: ┤0                                                                      ├»\n",
       "«     │                                                                       │»\n",
       "«q_1: ┤1                                                                      ├»\n",
       "«     │                                                                       │»\n",
       "«q_2: ┤2                                                                      ├»\n",
       "«     │  Pooling Layer(p1[0],p1[1],p1[2],p1[3],p1[4],p1[5],p1[6],p1[7],p1[8]) │»\n",
       "«q_3: ┤3                                                                      ├»\n",
       "«     │                                                                       │»\n",
       "«q_4: ┤4                                                                      ├»\n",
       "«     │                                                                       │»\n",
       "«q_5: ┤5                                                                      ├»\n",
       "«     └───────────────────────────────────────────────────────────────────────┘»\n",
       "«                                                                  »\n",
       "«q_0: ─────────────────────────────────────────────────────────────»\n",
       "«                                                                  »\n",
       "«q_1: ─────────────────────────────────────────────────────────────»\n",
       "«                                                                  »\n",
       "«q_2: ─────────────────────────────────────────────────────────────»\n",
       "«     ┌───────────────────────────────────────────────────────────┐»\n",
       "«q_3: ┤0                                                          ├»\n",
       "«     │                                                           │»\n",
       "«q_4: ┤1 Convolutional Layer(c2[0],c2[1],c2[2],c2[3],c2[4],c2[5]) ├»\n",
       "«     │                                                           │»\n",
       "«q_5: ┤2                                                          ├»\n",
       "«     └───────────────────────────────────────────────────────────┘»\n",
       "«                                          »\n",
       "«q_0: ─────────────────────────────────────»\n",
       "«                                          »\n",
       "«q_1: ─────────────────────────────────────»\n",
       "«                                          »\n",
       "«q_2: ─────────────────────────────────────»\n",
       "«     ┌───────────────────────────────────┐»\n",
       "«q_3: ┤0                                  ├»\n",
       "«     │  Pooling Layer(p2[0],p2[1],p2[2]) │»\n",
       "«q_4: ┤1                                  ├»\n",
       "«     └───────────────────────────────────┘»\n",
       "«q_5: ─────────────────────────────────────»\n",
       "«                                          »\n",
       "«                                                                  »\n",
       "«q_0: ─────────────────────────────────────────────────────────────»\n",
       "«                                                                  »\n",
       "«q_1: ─────────────────────────────────────────────────────────────»\n",
       "«                                                                  »\n",
       "«q_2: ─────────────────────────────────────────────────────────────»\n",
       "«                                                                  »\n",
       "«q_3: ─────────────────────────────────────────────────────────────»\n",
       "«     ┌───────────────────────────────────────────────────────────┐»\n",
       "«q_4: ┤0                                                          ├»\n",
       "«     │  Convolutional Layer(c3[0],c3[1],c3[2],c3[3],c3[4],c3[5]) │»\n",
       "«q_5: ┤1                                                          ├»\n",
       "«     └───────────────────────────────────────────────────────────┘»\n",
       "«                                          \n",
       "«q_0: ─────────────────────────────────────\n",
       "«                                          \n",
       "«q_1: ─────────────────────────────────────\n",
       "«                                          \n",
       "«q_2: ─────────────────────────────────────\n",
       "«                                          \n",
       "«q_3: ─────────────────────────────────────\n",
       "«     ┌───────────────────────────────────┐\n",
       "«q_4: ┤0                                  ├\n",
       "«     │  Pooling Layer(p3[0],p3[1],p3[2]) │\n",
       "«q_5: ┤1                                  ├\n",
       "«     └───────────────────────────────────┘"
      ]
     },
     "execution_count": 56,
     "metadata": {},
     "output_type": "execute_result"
    }
   ],
   "source": [
    "feature_map = get_zz_feature_map(num_features, 2, 'linear')\n",
    "ansatz = QuantumCircuit(6, name=\"Ansatz\")\n",
    "\n",
    "# First Convolutional Layer\n",
    "ansatz.compose(conv_layer(6, \"c1\"), list(range(6)), inplace=True)\n",
    "\n",
    "# First Pooling Layer\n",
    "ansatz.compose(pool_layer([0, 1, 2], [3, 4, 5], \"p1\"), list(range(6)), inplace=True)\n",
    "\n",
    "# Second Convolutional Layer\n",
    "ansatz.compose(conv_layer(3, \"c2\"), list(range(3, 6)), inplace=True)\n",
    "\n",
    "# Second Pooling Layer\n",
    "ansatz.compose(pool_layer([0], [1], \"p2\"), list(range(3, 5)), inplace=True)\n",
    "\n",
    "# Third Convolutional Layer\n",
    "ansatz.compose(conv_layer(2, \"c3\"), list(range(4, 6)), inplace=True)\n",
    "\n",
    "# Third Pooling Layer\n",
    "ansatz.compose(pool_layer([0], [1], \"p3\"), list(range(4, 6)), inplace=True)\n",
    "\n",
    "# Combining the feature map and ansatz\n",
    "circuit = feature_map.compose(ansatz)"
   ]
  },
  {
   "cell_type": "code",
   "execution_count": 117,
   "metadata": {},
   "outputs": [
    {
     "data": {
      "text/html": [
       "<pre style=\"word-wrap: normal;white-space: pre;background: #fff0;line-height: 1.1;font-family: &quot;Courier New&quot;,Courier,monospace\">     ┌──────────────────────────────────────────────┐»\n",
       "q_0: ┤0                                             ├»\n",
       "     │                                              │»\n",
       "q_1: ┤1                                             ├»\n",
       "     │                                              │»\n",
       "q_2: ┤2                                             ├»\n",
       "     │  ZZFeatureMap(x[0],x[1],x[2],x[3],x[4],x[5]) │»\n",
       "q_3: ┤3                                             ├»\n",
       "     │                                              │»\n",
       "q_4: ┤4                                             ├»\n",
       "     │                                              │»\n",
       "q_5: ┤5                                             ├»\n",
       "     └──────────────────────────────────────────────┘»\n",
       "«     ┌──────────────────────────────────────────────────────────────────────────────────────────────────────────────────────────────────────────────────────────────────────────────────────────────────────────────────────────┐\n",
       "«q_0: ┤0                                                                                                                                                                                                                         ├\n",
       "«     │                                                                                                                                                                                                                          │\n",
       "«q_1: ┤1                                                                                                                                                                                                                         ├\n",
       "«     │                                                                                                                                                                                                                          │\n",
       "«q_2: ┤2                                                                                                                                                                                                                         ├\n",
       "«     │  TwoLocal(θ[0],θ[1],θ[2],θ[3],θ[4],θ[5],θ[6],θ[7],θ[8],θ[9],θ[10],θ[11],θ[12],θ[13],θ[14],θ[15],θ[16],θ[17],θ[18],θ[19],θ[20],θ[21],θ[22],θ[23],θ[24],θ[25],θ[26],θ[27],θ[28],θ[29],θ[30],θ[31],θ[32],θ[33],θ[34],θ[35]) │\n",
       "«q_3: ┤3                                                                                                                                                                                                                         ├\n",
       "«     │                                                                                                                                                                                                                          │\n",
       "«q_4: ┤4                                                                                                                                                                                                                         ├\n",
       "«     │                                                                                                                                                                                                                          │\n",
       "«q_5: ┤5                                                                                                                                                                                                                         ├\n",
       "«     └──────────────────────────────────────────────────────────────────────────────────────────────────────────────────────────────────────────────────────────────────────────────────────────────────────────────────────────┘</pre>"
      ],
      "text/plain": [
       "     ┌──────────────────────────────────────────────┐»\n",
       "q_0: ┤0                                             ├»\n",
       "     │                                              │»\n",
       "q_1: ┤1                                             ├»\n",
       "     │                                              │»\n",
       "q_2: ┤2                                             ├»\n",
       "     │  ZZFeatureMap(x[0],x[1],x[2],x[3],x[4],x[5]) │»\n",
       "q_3: ┤3                                             ├»\n",
       "     │                                              │»\n",
       "q_4: ┤4                                             ├»\n",
       "     │                                              │»\n",
       "q_5: ┤5                                             ├»\n",
       "     └──────────────────────────────────────────────┘»\n",
       "«     ┌──────────────────────────────────────────────────────────────────────────────────────────────────────────────────────────────────────────────────────────────────────────────────────────────────────────────────────────┐\n",
       "«q_0: ┤0                                                                                                                                                                                                                         ├\n",
       "«     │                                                                                                                                                                                                                          │\n",
       "«q_1: ┤1                                                                                                                                                                                                                         ├\n",
       "«     │                                                                                                                                                                                                                          │\n",
       "«q_2: ┤2                                                                                                                                                                                                                         ├\n",
       "«     │  TwoLocal(θ[0],θ[1],θ[2],θ[3],θ[4],θ[5],θ[6],θ[7],θ[8],θ[9],θ[10],θ[11],θ[12],θ[13],θ[14],θ[15],θ[16],θ[17],θ[18],θ[19],θ[20],θ[21],θ[22],θ[23],θ[24],θ[25],θ[26],θ[27],θ[28],θ[29],θ[30],θ[31],θ[32],θ[33],θ[34],θ[35]) │\n",
       "«q_3: ┤3                                                                                                                                                                                                                         ├\n",
       "«     │                                                                                                                                                                                                                          │\n",
       "«q_4: ┤4                                                                                                                                                                                                                         ├\n",
       "«     │                                                                                                                                                                                                                          │\n",
       "«q_5: ┤5                                                                                                                                                                                                                         ├\n",
       "«     └──────────────────────────────────────────────────────────────────────────────────────────────────────────────────────────────────────────────────────────────────────────────────────────────────────────────────────────┘"
      ]
     },
     "execution_count": 117,
     "metadata": {},
     "output_type": "execute_result"
    }
   ],
   "source": [
    "weights_params = ansatz.parameters\n",
    "weights = np.random.random(len(ansatz.parameters))\n",
    "ansatz.assign_parameters({k:v for (k,v) in zip(ansatz.parameters, weights)})\n",
    "\n",
    "observable = SparsePauliOp.from_list([(\"Z\" + \"I\" * 5, 1)])\n",
    "\n",
    "# we decompose the circuit for the QNN to avoid additional data copying\n",
    "qnn = EstimatorQNN(\n",
    "    circuit=var_circuit.decompose(),\n",
    "    observables=observable,\n",
    "    input_params=feature_map.parameters,\n",
    "    weight_params=ansatz.parameters,\n",
    ")\n",
    "var_circuit.draw()"
   ]
  },
  {
   "cell_type": "code",
   "execution_count": 128,
   "metadata": {},
   "outputs": [],
   "source": [
    "def callback_graph(weights, obj_func_eval):\n",
    "    clear_output(wait=True)\n",
    "    objective_func_vals.append(obj_func_eval)\n",
    "    plt.title(\"Objective function value against iteration\")\n",
    "    plt.xlabel(\"Iteration\")\n",
    "    plt.ylabel(\"Objective function value\")\n",
    "    plt.plot(range(len(objective_func_vals)), objective_func_vals)\n",
    "    plt.show()\n",
    "    \n",
    "def spsa_callback(nfev, params, fval=2, stepsize=2, accepted=None):\n",
    "    \"\"\"\n",
    "    Can be used for SPSA and GradientDescent optimizers\n",
    "    nfev: the number of function evals\n",
    "    params: the current parameters\n",
    "    fval: the current function value\n",
    "    stepsize: size of the update step\n",
    "    accepted: whether the step was accepted (not used for )\n",
    "    \"\"\"\n",
    "    global spsa_loss_recorder\n",
    "    \n",
    "\n",
    "    if (nfev % 3) == 0:\n",
    "        spsa_loss_recorder.append(fval)\n",
    "        #print(f\"SPSA Epoch {len(spsa_loss_recorder)}: {fval:.5f}\")"
   ]
  },
  {
   "cell_type": "code",
   "execution_count": 138,
   "metadata": {},
   "outputs": [],
   "source": [
    "max_itr = 300\n",
    "spsa_opt = SPSA(maxiter=max_itr, callback=spsa_callback)\n",
    "initial_point = np.random.random((len(ansatz.parameters),))\n",
    "classifier = NeuralNetworkClassifier(\n",
    "    neural_network=sampler_qnn,\n",
    "    loss=CrossEntropyLoss(),\n",
    "    one_hot=True,\n",
    "    optimizer=COBYLA(maxiter=max_itr),  # Set max iterations here\n",
    "    callback=callback_graph,\n",
    "    initial_point=initial_point,\n",
    ")"
   ]
  },
  {
   "cell_type": "code",
   "execution_count": 139,
   "metadata": {},
   "outputs": [
    {
     "data": {
      "image/png": "[encoded data removed]",
      "text/plain": [
       "<Figure size 1200x600 with 1 Axes>"
      ]
     },
     "metadata": {},
     "output_type": "display_data"
    }
   ],
   "source": [
    "objective_func_vals = []\n",
    "plt.rcParams[\"figure.figsize\"] = (12, 6)\n",
    "print(x_train)\n",
    "classifier = classifier.fit(x_train, y_train_1h)"
   ]
  },
  {
   "cell_type": "code",
   "execution_count": 140,
   "metadata": {},
   "outputs": [
    {
     "name": "stdout",
     "output_type": "stream",
     "text": [
      "Accuracy from the train data : 93.75%\n",
      "0.85\n"
     ]
    }
   ],
   "source": [
    "print(f\"Accuracy from the train data : {np.round(100 * classifier.score(x_train, y_train_1h), 2)}%\")\n",
    "print(classifier.score(x_test, y_test_1h))"
   ]
  },
  {
   "cell_type": "code",
   "execution_count": null,
   "metadata": {},
   "outputs": [],
   "source": [
    "obs_parity = Pauli('Z' * num_features)\n",
    "obs_one_qubit = Pauli('I' * (num_features - 1) + 'Z')\n",
    "print(f\"Parity observable: {obs_parity}\")\n",
    "print(f\"First qubit observable: {obs_one_qubit}\")"
   ]
  },
  {
   "cell_type": "code",
   "execution_count": null,
   "metadata": {},
   "outputs": [],
   "source": [
    "paramShiftEstGrad = ParamShiftEstimatorGradient(estimator=estimator)\n",
    "\n",
    "estimator_qnn = EstimatorQNN(estimator=estimator,\n",
    "                             circuit=circuit,\n",
    "                             observables=obs_one_qubit,\n",
    "                             input_params=input_params,     # if your embedding strategy is not a parametrized circuit\n",
    "                                                            # (e.g. amplitude encoding) you will have to do some extra work!\n",
    "                             weight_params=weights_params,  # if you train your embedding as well, the trainable\n",
    "                                                            # parameters of the embedding must be added\n",
    "                             gradient=paramShiftEstGrad)"
   ]
  },
  {
   "cell_type": "markdown",
   "metadata": {},
   "source": [
    "### Forward pass"
   ]
  },
  {
   "cell_type": "code",
   "execution_count": null,
   "metadata": {},
   "outputs": [],
   "source": [
    "# The result of the neural network on a forward pass.\n",
    "output = estimator_qnn.forward(x, weights)\n",
    "print(f\"Output shape for {len(x)} samples: {output.shape}\")\n",
    "print(f\"Output of the forward pass for first sample: {output[0]}\")"
   ]
  },
  {
   "cell_type": "markdown",
   "metadata": {},
   "source": [
    "### Backward pass"
   ]
  },
  {
   "cell_type": "code",
   "execution_count": null,
   "metadata": {},
   "outputs": [],
   "source": [
    "# The result of the neural network on a backward pass\n",
    "_, weights_grad = estimator_qnn.backward(x, weights)\n",
    "print(f\"Output shape for {len(x)} samples: {weights_grad.shape}\")\n",
    "print(f\"Output of the backward pass for first sample: {weights_grad[0]}\")"
   ]
  },
  {
   "cell_type": "markdown",
   "metadata": {},
   "source": [
    "# Train a Neural Network Classifier"
   ]
  },
  {
   "cell_type": "code",
   "execution_count": 109,
   "metadata": {},
   "outputs": [
    {
     "name": "stdout",
     "output_type": "stream",
     "text": [
      "Label 0.0 converted to [1 0]\n",
      "Label 1.0 converted to [0 1]\n"
     ]
    }
   ],
   "source": [
    "def get_one_hot_encoding(y):\n",
    "    unique_labels = np.unique(y, axis=0)\n",
    "    y_one_hot = [(np.eye(len(unique_labels), dtype=int)[np.where(unique_labels == y_i)]).reshape(len(unique_labels)) for y_i in y]\n",
    "\n",
    "    return np.array(y_one_hot)\n",
    "\n",
    "y_train_1h = get_one_hot_encoding(y_train)\n",
    "y_test_1h = get_one_hot_encoding(y_test)\n",
    "\n",
    "print(f\"Label {y_train[2]} converted to {y_train_1h[2]}\")\n",
    "print(f\"Label {y_train[0]} converted to {y_train_1h[0]}\")"
   ]
  },
  {
   "cell_type": "code",
   "execution_count": null,
   "metadata": {},
   "outputs": [],
   "source": [
    "def spsa_callback(nfev, params, fval, stepsize, accepted=None):\n",
    "    \"\"\"\n",
    "    Can be used for SPSA and GradientDescent optimizers\n",
    "    nfev: the number of function evals\n",
    "    params: the current parameters\n",
    "    fval: the current function value\n",
    "    stepsize: size of the update step\n",
    "    accepted: whether the step was accepted (not used for )\n",
    "    \"\"\"\n",
    "    global spsa_loss_recorder\n",
    "\n",
    "    if (nfev % 3) == 0:\n",
    "        spsa_loss_recorder.append(fval)\n",
    "        # print(f\"SPSA Epoch {len(spsa_loss_recorder)}: {fval:.5f}\")"
   ]
  },
  {
   "cell_type": "code",
   "execution_count": null,
   "metadata": {},
   "outputs": [],
   "source": [
    "max_itr = 40\n",
    "spsa_opt = SPSA(maxiter=max_itr, callback=spsa_callback)\n",
    "spsa_loss_recorder = []\n",
    "initial_point = np.random.random((len(ansatz.parameters),))\n",
    "vqc = NeuralNetworkClassifier(neural_network=sampler_qnn,\n",
    "                              loss=CrossEntropyLoss(),\n",
    "                              one_hot=True,\n",
    "                              optimizer=spsa_opt,\n",
    "                              initial_point=initial_point)\n",
    "print(x_train[0])\n",
    "vqc = vqc.fit(x_train, y_train_1h)"
   ]
  },
  {
   "cell_type": "code",
   "execution_count": null,
   "metadata": {},
   "outputs": [],
   "source": [
    "plt.plot(spsa_loss_recorder)\n",
    "plt.xlabel(\"Number of epochs\")\n",
    "plt.title(\"Training loss\")"
   ]
  },
  {
   "cell_type": "code",
   "execution_count": null,
   "metadata": {},
   "outputs": [],
   "source": [
    "score_train = vqc.score(x_train, y_train_1h)\n",
    "score_test = vqc.score(x_test, y_test_1h)\n",
    "print(f'Score on the train set {score_train}')\n",
    "print(f'Score on the test set {score_test}')"
   ]
  },
  {
   "cell_type": "code",
   "execution_count": null,
   "metadata": {},
   "outputs": [],
   "source": [
    "y_train_pred = vqc.predict(x_train)\n",
    "y_test_pred = vqc.predict(x_test)"
   ]
  },
  {
   "cell_type": "code",
   "execution_count": null,
   "metadata": {},
   "outputs": [],
   "source": [
    "train_pred_acc = np.all(y_train_pred == y_train_1h, axis=1)\n",
    "test_pred_acc = np.all(y_test_pred == y_test_1h, axis=1)"
   ]
  },
  {
   "cell_type": "code",
   "execution_count": null,
   "metadata": {},
   "outputs": [],
   "source": [
    "x_all = np.concatenate((x_train, x_test))\n",
    "y_all= np.concatenate((y_train_1h, y_test_1h))\n",
    "y_pred_acc_all = np.concatenate((train_pred_acc, test_pred_acc))\n",
    "\n",
    "x_b = x_all[np.all(y_all == [1, 0], axis=1)]\n",
    "x_b_good = x_b[(y_pred_acc_all[np.all(y_all == [1, 0], axis=1)])]\n",
    "x_b_bad = x_b[np.logical_not(y_pred_acc_all[np.all(y_all == [1, 0], axis=1)])]\n",
    "\n",
    "x_r = x_all[np.all(y_all == [0, 1], axis=1)]\n",
    "x_r_good = x_r[(y_pred_acc_all[np.all(y_all == [0, 1], axis=1)])]\n",
    "x_r_bad = x_r[np.logical_not(y_pred_acc_all[np.all(y_all == [0, 1], axis=1)])]"
   ]
  },
  {
   "cell_type": "code",
   "execution_count": null,
   "metadata": {},
   "outputs": [],
   "source": [
    "plt.scatter(x_b_good[:,0], x_b_good[:,1], c='b', marker=\".\", label=\"Good class 0\")\n",
    "plt.scatter(x_b_bad[:,0], x_b_bad[:,1], c='b', marker=\"x\", label=\"Bad class 0\")\n",
    "plt.scatter(x_r_good[:,0], x_r_good[:,1], c='r', marker=\".\", label=\"Good class 1\")\n",
    "plt.scatter(x_r_bad[:,0], x_r_bad[:,1], c='r', marker=\"x\", label=\"Bad class 1\")\n",
    "\n",
    "plt.title(\"Moon dataset classification\")\n",
    "plt.legend()"
   ]
  },
  {
   "cell_type": "code",
   "execution_count": null,
   "metadata": {},
   "outputs": [],
   "source": []
  }
 ],
 "metadata": {
  "interpreter": {
   "hash": "ba0b25e8af5c74af8e2c6ced0e74862d1fdf41eb019455e1e720bbed2b1ca1d9"
  },
  "kernelspec": {
   "display_name": "Python 3 (ipykernel)",
   "language": "python",
   "name": "python3"
  },
  "language_info": {
   "codemirror_mode": {
    "name": "ipython",
    "version": 3
   },
   "file_extension": ".py",
   "mimetype": "text/x-python",
   "name": "python",
   "nbconvert_exporter": "python",
   "pygments_lexer": "ipython3",
   "version": "3.10.6"
  }
 },
 "nbformat": 4,
 "nbformat_minor": 4
}
